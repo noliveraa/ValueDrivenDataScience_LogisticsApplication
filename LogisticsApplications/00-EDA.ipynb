{
 "cells": [
  {
   "cell_type": "code",
   "execution_count": 1,
   "metadata": {},
   "outputs": [],
   "source": [
    "import pandas as pd\n",
    "import numpy as np\n",
    "import re\n",
    "\n",
    "from tqdm import tqdm\n",
    "from datetime import datetime\n",
    "from matplotlib.backends.backend_pdf import PdfPages\n",
    "import matplotlib.pyplot as plt"
   ]
  },
  {
   "cell_type": "markdown",
   "metadata": {},
   "source": [
    "# 1. Volume Data"
   ]
  },
  {
   "cell_type": "code",
   "execution_count": 2,
   "metadata": {},
   "outputs": [],
   "source": [
    "df_vol = pd.read_csv(\"../data/inbound_volume_data.csv\", index_col=0)"
   ]
  },
  {
   "cell_type": "code",
   "execution_count": 3,
   "metadata": {},
   "outputs": [
    {
     "data": {
      "text/html": [
       "<div>\n",
       "<style scoped>\n",
       "    .dataframe tbody tr th:only-of-type {\n",
       "        vertical-align: middle;\n",
       "    }\n",
       "\n",
       "    .dataframe tbody tr th {\n",
       "        vertical-align: top;\n",
       "    }\n",
       "\n",
       "    .dataframe thead th {\n",
       "        text-align: right;\n",
       "    }\n",
       "</style>\n",
       "<table border=\"1\" class=\"dataframe\">\n",
       "  <thead>\n",
       "    <tr style=\"text-align: right;\">\n",
       "      <th></th>\n",
       "      <th>Timestamp</th>\n",
       "      <th>Provider</th>\n",
       "      <th>Plant</th>\n",
       "      <th>Actual Vol [Kg]</th>\n",
       "      <th>Expected Vol [Kg]</th>\n",
       "    </tr>\n",
       "  </thead>\n",
       "  <tbody>\n",
       "    <tr>\n",
       "      <th>0</th>\n",
       "      <td>2015/07</td>\n",
       "      <td>Provider_1</td>\n",
       "      <td>Plant_1</td>\n",
       "      <td>19096</td>\n",
       "      <td>20298</td>\n",
       "    </tr>\n",
       "    <tr>\n",
       "      <th>1</th>\n",
       "      <td>2015/08</td>\n",
       "      <td>Provider_1</td>\n",
       "      <td>Plant_1</td>\n",
       "      <td>187139</td>\n",
       "      <td>189973</td>\n",
       "    </tr>\n",
       "    <tr>\n",
       "      <th>2</th>\n",
       "      <td>2015/09</td>\n",
       "      <td>Provider_1</td>\n",
       "      <td>Plant_1</td>\n",
       "      <td>181149</td>\n",
       "      <td>187798</td>\n",
       "    </tr>\n",
       "    <tr>\n",
       "      <th>3</th>\n",
       "      <td>2015/10</td>\n",
       "      <td>Provider_1</td>\n",
       "      <td>Plant_1</td>\n",
       "      <td>202677</td>\n",
       "      <td>202327</td>\n",
       "    </tr>\n",
       "    <tr>\n",
       "      <th>4</th>\n",
       "      <td>2015/11</td>\n",
       "      <td>Provider_1</td>\n",
       "      <td>Plant_1</td>\n",
       "      <td>272902</td>\n",
       "      <td>271765</td>\n",
       "    </tr>\n",
       "  </tbody>\n",
       "</table>\n",
       "</div>"
      ],
      "text/plain": [
       "  Timestamp    Provider    Plant Actual Vol [Kg] Expected Vol [Kg]\n",
       "0   2015/07  Provider_1  Plant_1           19096             20298\n",
       "1   2015/08  Provider_1  Plant_1          187139            189973\n",
       "2   2015/09  Provider_1  Plant_1          181149            187798\n",
       "3   2015/10  Provider_1  Plant_1          202677            202327\n",
       "4   2015/11  Provider_1  Plant_1          272902            271765"
      ]
     },
     "execution_count": 3,
     "metadata": {},
     "output_type": "execute_result"
    }
   ],
   "source": [
    "df_vol.head()"
   ]
  },
  {
   "cell_type": "code",
   "execution_count": 4,
   "metadata": {},
   "outputs": [
    {
     "data": {
      "text/html": [
       "<div>\n",
       "<style scoped>\n",
       "    .dataframe tbody tr th:only-of-type {\n",
       "        vertical-align: middle;\n",
       "    }\n",
       "\n",
       "    .dataframe tbody tr th {\n",
       "        vertical-align: top;\n",
       "    }\n",
       "\n",
       "    .dataframe thead th {\n",
       "        text-align: right;\n",
       "    }\n",
       "</style>\n",
       "<table border=\"1\" class=\"dataframe\">\n",
       "  <thead>\n",
       "    <tr style=\"text-align: right;\">\n",
       "      <th></th>\n",
       "      <th>Timestamp</th>\n",
       "      <th>Provider</th>\n",
       "      <th>Plant</th>\n",
       "      <th>Actual Vol [Kg]</th>\n",
       "      <th>Expected Vol [Kg]</th>\n",
       "    </tr>\n",
       "  </thead>\n",
       "  <tbody>\n",
       "    <tr>\n",
       "      <th>count</th>\n",
       "      <td>47058</td>\n",
       "      <td>47058</td>\n",
       "      <td>47058</td>\n",
       "      <td>47055</td>\n",
       "      <td>46951</td>\n",
       "    </tr>\n",
       "    <tr>\n",
       "      <th>unique</th>\n",
       "      <td>106</td>\n",
       "      <td>38</td>\n",
       "      <td>18</td>\n",
       "      <td>45291</td>\n",
       "      <td>46179</td>\n",
       "    </tr>\n",
       "    <tr>\n",
       "      <th>top</th>\n",
       "      <td>2018/08</td>\n",
       "      <td>Provider_3</td>\n",
       "      <td>Plant_19</td>\n",
       "      <td>160</td>\n",
       "      <td>0</td>\n",
       "    </tr>\n",
       "    <tr>\n",
       "      <th>freq</th>\n",
       "      <td>493</td>\n",
       "      <td>1779</td>\n",
       "      <td>2922</td>\n",
       "      <td>17</td>\n",
       "      <td>57</td>\n",
       "    </tr>\n",
       "  </tbody>\n",
       "</table>\n",
       "</div>"
      ],
      "text/plain": [
       "       Timestamp    Provider     Plant Actual Vol [Kg] Expected Vol [Kg]\n",
       "count      47058       47058     47058           47055             46951\n",
       "unique       106          38        18           45291             46179\n",
       "top      2018/08  Provider_3  Plant_19             160                 0\n",
       "freq         493        1779      2922              17                57"
      ]
     },
     "execution_count": 4,
     "metadata": {},
     "output_type": "execute_result"
    }
   ],
   "source": [
    "df_vol.describe()"
   ]
  },
  {
   "cell_type": "markdown",
   "metadata": {},
   "source": [
    "## 1.1 Convert Timestamp to datetime object "
   ]
  },
  {
   "cell_type": "code",
   "execution_count": 5,
   "metadata": {},
   "outputs": [],
   "source": [
    "df_vol[\"Year\"] = df_vol[\"Timestamp\"].apply(lambda x: x.split(\"/\")[0]).astype(int)\n",
    "df_vol[\"Month\"] = df_vol[\"Timestamp\"].apply(lambda x: x.split(\"/\")[1]).astype(int)\n",
    "df_vol[\"Timestamp\"] = df_vol[[\"Year\", \"Month\"]].apply(\n",
    "    lambda x: datetime(x[\"Year\"], x[\"Month\"], 1), axis=1\n",
    ")"
   ]
  },
  {
   "cell_type": "code",
   "execution_count": 6,
   "metadata": {},
   "outputs": [],
   "source": [
    "# Create Timeseries Key\n",
    "df_vol[\"ts_key\"] = df_vol[[\"Provider\", \"Plant\"]].apply(\n",
    "    lambda x: x[\"Provider\"] + \"-\" + x[\"Plant\"], axis=1\n",
    ")\n",
    "\n",
    "# Convert String values to float\n",
    "# df_vol['Actual Vol [Kg]'] = df_vol['Actual Vol [Kg]'].astype('float32')\n",
    "# df_vol['Expected Vol [Kg]'] = df_vol['Expected Vol [Kg]'].astype('float32')"
   ]
  },
  {
   "cell_type": "markdown",
   "metadata": {},
   "source": [
    "However you will find the error `ValueError: could not convert string to float: '1.736.973'\"`. That is due to the fact, the the column contains both String and Numeric values. Therefore we need to transform all non-numeric values to numeric. In most cases we would have to talk to the business area and verify how to interpret those \"wrong\" values. In this case it was we just need to remove any (.) and replace it by and empty string. This are just thousands separators. On the other hand, the comma (,) is the decimal separator, we also need to replace those by dots (.). "
   ]
  },
  {
   "cell_type": "code",
   "execution_count": 7,
   "metadata": {},
   "outputs": [
    {
     "data": {
      "text/html": [
       "<div>\n",
       "<style scoped>\n",
       "    .dataframe tbody tr th:only-of-type {\n",
       "        vertical-align: middle;\n",
       "    }\n",
       "\n",
       "    .dataframe tbody tr th {\n",
       "        vertical-align: top;\n",
       "    }\n",
       "\n",
       "    .dataframe thead th {\n",
       "        text-align: right;\n",
       "    }\n",
       "</style>\n",
       "<table border=\"1\" class=\"dataframe\">\n",
       "  <thead>\n",
       "    <tr style=\"text-align: right;\">\n",
       "      <th></th>\n",
       "      <th>Timestamp</th>\n",
       "      <th>Provider</th>\n",
       "      <th>Plant</th>\n",
       "      <th>Actual Vol [Kg]</th>\n",
       "      <th>Expected Vol [Kg]</th>\n",
       "      <th>Year</th>\n",
       "      <th>Month</th>\n",
       "      <th>ts_key</th>\n",
       "    </tr>\n",
       "  </thead>\n",
       "  <tbody>\n",
       "    <tr>\n",
       "      <th>55308</th>\n",
       "      <td>2022-01-01</td>\n",
       "      <td>Provider_2</td>\n",
       "      <td>Plant_4</td>\n",
       "      <td>784.974</td>\n",
       "      <td>758.414</td>\n",
       "      <td>2022</td>\n",
       "      <td>1</td>\n",
       "      <td>Provider_2-Plant_4</td>\n",
       "    </tr>\n",
       "    <tr>\n",
       "      <th>55309</th>\n",
       "      <td>2022-01-01</td>\n",
       "      <td>Provider_3</td>\n",
       "      <td>Plant_4</td>\n",
       "      <td>1.736.973</td>\n",
       "      <td>1.544.132</td>\n",
       "      <td>2022</td>\n",
       "      <td>1</td>\n",
       "      <td>Provider_3-Plant_4</td>\n",
       "    </tr>\n",
       "    <tr>\n",
       "      <th>55310</th>\n",
       "      <td>2022-01-01</td>\n",
       "      <td>Provider_4</td>\n",
       "      <td>Plant_4</td>\n",
       "      <td>417.621</td>\n",
       "      <td>1.002.859</td>\n",
       "      <td>2022</td>\n",
       "      <td>1</td>\n",
       "      <td>Provider_4-Plant_4</td>\n",
       "    </tr>\n",
       "    <tr>\n",
       "      <th>55311</th>\n",
       "      <td>2022-01-01</td>\n",
       "      <td>Provider_5</td>\n",
       "      <td>Plant_4</td>\n",
       "      <td>2.535.036</td>\n",
       "      <td>2.699.221</td>\n",
       "      <td>2022</td>\n",
       "      <td>1</td>\n",
       "      <td>Provider_5-Plant_4</td>\n",
       "    </tr>\n",
       "    <tr>\n",
       "      <th>55312</th>\n",
       "      <td>2022-01-01</td>\n",
       "      <td>Provider_6</td>\n",
       "      <td>Plant_4</td>\n",
       "      <td>98.101</td>\n",
       "      <td>98.348</td>\n",
       "      <td>2022</td>\n",
       "      <td>1</td>\n",
       "      <td>Provider_6-Plant_4</td>\n",
       "    </tr>\n",
       "  </tbody>\n",
       "</table>\n",
       "</div>"
      ],
      "text/plain": [
       "       Timestamp    Provider    Plant Actual Vol [Kg] Expected Vol [Kg]  Year  \\\n",
       "55308 2022-01-01  Provider_2  Plant_4         784.974           758.414  2022   \n",
       "55309 2022-01-01  Provider_3  Plant_4       1.736.973         1.544.132  2022   \n",
       "55310 2022-01-01  Provider_4  Plant_4         417.621         1.002.859  2022   \n",
       "55311 2022-01-01  Provider_5  Plant_4       2.535.036         2.699.221  2022   \n",
       "55312 2022-01-01  Provider_6  Plant_4          98.101            98.348  2022   \n",
       "\n",
       "       Month              ts_key  \n",
       "55308      1  Provider_2-Plant_4  \n",
       "55309      1  Provider_3-Plant_4  \n",
       "55310      1  Provider_4-Plant_4  \n",
       "55311      1  Provider_5-Plant_4  \n",
       "55312      1  Provider_6-Plant_4  "
      ]
     },
     "execution_count": 7,
     "metadata": {},
     "output_type": "execute_result"
    }
   ],
   "source": [
    "# We can verify by ourselves which datapoints contain\n",
    "# (.) in the Column \"Actual Vol [Kg]\"\n",
    "df_vol[\n",
    "    df_vol[\"Actual Vol [Kg]\"].apply(lambda x: True if \".\" in str(x) else False)\n",
    "].head()"
   ]
  },
  {
   "cell_type": "code",
   "execution_count": 8,
   "metadata": {},
   "outputs": [
    {
     "data": {
      "text/html": [
       "<div>\n",
       "<style scoped>\n",
       "    .dataframe tbody tr th:only-of-type {\n",
       "        vertical-align: middle;\n",
       "    }\n",
       "\n",
       "    .dataframe tbody tr th {\n",
       "        vertical-align: top;\n",
       "    }\n",
       "\n",
       "    .dataframe thead th {\n",
       "        text-align: right;\n",
       "    }\n",
       "</style>\n",
       "<table border=\"1\" class=\"dataframe\">\n",
       "  <thead>\n",
       "    <tr style=\"text-align: right;\">\n",
       "      <th></th>\n",
       "      <th>Timestamp</th>\n",
       "      <th>Provider</th>\n",
       "      <th>Plant</th>\n",
       "      <th>Actual Vol [Kg]</th>\n",
       "      <th>Expected Vol [Kg]</th>\n",
       "      <th>Year</th>\n",
       "      <th>Month</th>\n",
       "      <th>ts_key</th>\n",
       "    </tr>\n",
       "  </thead>\n",
       "  <tbody>\n",
       "    <tr>\n",
       "      <th>11925</th>\n",
       "      <td>2016-10-01</td>\n",
       "      <td>Provider_16</td>\n",
       "      <td>Plant_1</td>\n",
       "      <td>1937</td>\n",
       "      <td>2.026</td>\n",
       "      <td>2016</td>\n",
       "      <td>10</td>\n",
       "      <td>Provider_16-Plant_1</td>\n",
       "    </tr>\n",
       "    <tr>\n",
       "      <th>11926</th>\n",
       "      <td>2016-11-01</td>\n",
       "      <td>Provider_16</td>\n",
       "      <td>Plant_1</td>\n",
       "      <td>159462</td>\n",
       "      <td>156.923</td>\n",
       "      <td>2016</td>\n",
       "      <td>11</td>\n",
       "      <td>Provider_16-Plant_1</td>\n",
       "    </tr>\n",
       "    <tr>\n",
       "      <th>11927</th>\n",
       "      <td>2016-12-01</td>\n",
       "      <td>Provider_16</td>\n",
       "      <td>Plant_1</td>\n",
       "      <td>371940</td>\n",
       "      <td>371.941</td>\n",
       "      <td>2016</td>\n",
       "      <td>12</td>\n",
       "      <td>Provider_16-Plant_1</td>\n",
       "    </tr>\n",
       "    <tr>\n",
       "      <th>11928</th>\n",
       "      <td>2017-01-01</td>\n",
       "      <td>Provider_16</td>\n",
       "      <td>Plant_1</td>\n",
       "      <td>409358</td>\n",
       "      <td>409.111</td>\n",
       "      <td>2017</td>\n",
       "      <td>1</td>\n",
       "      <td>Provider_16-Plant_1</td>\n",
       "    </tr>\n",
       "    <tr>\n",
       "      <th>11929</th>\n",
       "      <td>2017-02-01</td>\n",
       "      <td>Provider_16</td>\n",
       "      <td>Plant_1</td>\n",
       "      <td>347810</td>\n",
       "      <td>341.743</td>\n",
       "      <td>2017</td>\n",
       "      <td>2</td>\n",
       "      <td>Provider_16-Plant_1</td>\n",
       "    </tr>\n",
       "  </tbody>\n",
       "</table>\n",
       "</div>"
      ],
      "text/plain": [
       "       Timestamp     Provider    Plant Actual Vol [Kg] Expected Vol [Kg]  \\\n",
       "11925 2016-10-01  Provider_16  Plant_1            1937             2.026   \n",
       "11926 2016-11-01  Provider_16  Plant_1          159462           156.923   \n",
       "11927 2016-12-01  Provider_16  Plant_1          371940           371.941   \n",
       "11928 2017-01-01  Provider_16  Plant_1          409358           409.111   \n",
       "11929 2017-02-01  Provider_16  Plant_1          347810           341.743   \n",
       "\n",
       "       Year  Month               ts_key  \n",
       "11925  2016     10  Provider_16-Plant_1  \n",
       "11926  2016     11  Provider_16-Plant_1  \n",
       "11927  2016     12  Provider_16-Plant_1  \n",
       "11928  2017      1  Provider_16-Plant_1  \n",
       "11929  2017      2  Provider_16-Plant_1  "
      ]
     },
     "execution_count": 8,
     "metadata": {},
     "output_type": "execute_result"
    }
   ],
   "source": [
    "# We can verify by ourselves which datapoints contain\n",
    "# (.) in the Column \"Expected Vol [Kg]\"\n",
    "df_vol[\n",
    "    df_vol[\"Expected Vol [Kg]\"].apply(lambda x: True if \".\" in str(x) else False)\n",
    "].head()"
   ]
  },
  {
   "cell_type": "code",
   "execution_count": 9,
   "metadata": {},
   "outputs": [
    {
     "data": {
      "text/html": [
       "<div>\n",
       "<style scoped>\n",
       "    .dataframe tbody tr th:only-of-type {\n",
       "        vertical-align: middle;\n",
       "    }\n",
       "\n",
       "    .dataframe tbody tr th {\n",
       "        vertical-align: top;\n",
       "    }\n",
       "\n",
       "    .dataframe thead th {\n",
       "        text-align: right;\n",
       "    }\n",
       "</style>\n",
       "<table border=\"1\" class=\"dataframe\">\n",
       "  <thead>\n",
       "    <tr style=\"text-align: right;\">\n",
       "      <th></th>\n",
       "      <th>Timestamp</th>\n",
       "      <th>Provider</th>\n",
       "      <th>Plant</th>\n",
       "      <th>Actual Vol [Kg]</th>\n",
       "      <th>Expected Vol [Kg]</th>\n",
       "      <th>Year</th>\n",
       "      <th>Month</th>\n",
       "      <th>ts_key</th>\n",
       "    </tr>\n",
       "  </thead>\n",
       "  <tbody>\n",
       "  </tbody>\n",
       "</table>\n",
       "</div>"
      ],
      "text/plain": [
       "Empty DataFrame\n",
       "Columns: [Timestamp, Provider, Plant, Actual Vol [Kg], Expected Vol [Kg], Year, Month, ts_key]\n",
       "Index: []"
      ]
     },
     "execution_count": 9,
     "metadata": {},
     "output_type": "execute_result"
    }
   ],
   "source": [
    "# We can verify by ourselves which datapoints contain\n",
    "# (,) in the Column \"Actual Vol [Kg]\"\n",
    "df_vol[\n",
    "    df_vol[\"Actual Vol [Kg]\"].apply(lambda x: True if \",\" in str(x) else False)\n",
    "].head()"
   ]
  },
  {
   "cell_type": "code",
   "execution_count": 10,
   "metadata": {},
   "outputs": [
    {
     "data": {
      "text/html": [
       "<div>\n",
       "<style scoped>\n",
       "    .dataframe tbody tr th:only-of-type {\n",
       "        vertical-align: middle;\n",
       "    }\n",
       "\n",
       "    .dataframe tbody tr th {\n",
       "        vertical-align: top;\n",
       "    }\n",
       "\n",
       "    .dataframe thead th {\n",
       "        text-align: right;\n",
       "    }\n",
       "</style>\n",
       "<table border=\"1\" class=\"dataframe\">\n",
       "  <thead>\n",
       "    <tr style=\"text-align: right;\">\n",
       "      <th></th>\n",
       "      <th>Timestamp</th>\n",
       "      <th>Provider</th>\n",
       "      <th>Plant</th>\n",
       "      <th>Actual Vol [Kg]</th>\n",
       "      <th>Expected Vol [Kg]</th>\n",
       "      <th>Year</th>\n",
       "      <th>Month</th>\n",
       "      <th>ts_key</th>\n",
       "    </tr>\n",
       "  </thead>\n",
       "  <tbody>\n",
       "    <tr>\n",
       "      <th>108</th>\n",
       "      <td>2018-01-01</td>\n",
       "      <td>Provider_1</td>\n",
       "      <td>Plant_3</td>\n",
       "      <td>192728</td>\n",
       "      <td>196852,881</td>\n",
       "      <td>2018</td>\n",
       "      <td>1</td>\n",
       "      <td>Provider_1-Plant_3</td>\n",
       "    </tr>\n",
       "    <tr>\n",
       "      <th>188</th>\n",
       "      <td>2017-11-01</td>\n",
       "      <td>Provider_1</td>\n",
       "      <td>Plant_5</td>\n",
       "      <td>115609</td>\n",
       "      <td>82748,497</td>\n",
       "      <td>2017</td>\n",
       "      <td>11</td>\n",
       "      <td>Provider_1-Plant_5</td>\n",
       "    </tr>\n",
       "    <tr>\n",
       "      <th>231</th>\n",
       "      <td>2017-03-01</td>\n",
       "      <td>Provider_1</td>\n",
       "      <td>Plant_6</td>\n",
       "      <td>146423</td>\n",
       "      <td>91172,432</td>\n",
       "      <td>2017</td>\n",
       "      <td>3</td>\n",
       "      <td>Provider_1-Plant_6</td>\n",
       "    </tr>\n",
       "    <tr>\n",
       "      <th>497</th>\n",
       "      <td>2017-08-01</td>\n",
       "      <td>Provider_1</td>\n",
       "      <td>Plant_12</td>\n",
       "      <td>526399</td>\n",
       "      <td>518210,158</td>\n",
       "      <td>2017</td>\n",
       "      <td>8</td>\n",
       "      <td>Provider_1-Plant_12</td>\n",
       "    </tr>\n",
       "    <tr>\n",
       "      <th>531</th>\n",
       "      <td>2016-03-01</td>\n",
       "      <td>Provider_1</td>\n",
       "      <td>Plant_13</td>\n",
       "      <td>937039</td>\n",
       "      <td>830825,712</td>\n",
       "      <td>2016</td>\n",
       "      <td>3</td>\n",
       "      <td>Provider_1-Plant_13</td>\n",
       "    </tr>\n",
       "  </tbody>\n",
       "</table>\n",
       "</div>"
      ],
      "text/plain": [
       "     Timestamp    Provider     Plant Actual Vol [Kg] Expected Vol [Kg]  Year  \\\n",
       "108 2018-01-01  Provider_1   Plant_3          192728        196852,881  2018   \n",
       "188 2017-11-01  Provider_1   Plant_5          115609         82748,497  2017   \n",
       "231 2017-03-01  Provider_1   Plant_6          146423         91172,432  2017   \n",
       "497 2017-08-01  Provider_1  Plant_12          526399        518210,158  2017   \n",
       "531 2016-03-01  Provider_1  Plant_13          937039        830825,712  2016   \n",
       "\n",
       "     Month               ts_key  \n",
       "108      1   Provider_1-Plant_3  \n",
       "188     11   Provider_1-Plant_5  \n",
       "231      3   Provider_1-Plant_6  \n",
       "497      8  Provider_1-Plant_12  \n",
       "531      3  Provider_1-Plant_13  "
      ]
     },
     "execution_count": 10,
     "metadata": {},
     "output_type": "execute_result"
    }
   ],
   "source": [
    "# We can verify by ourselves which datapoints contain\n",
    "# (,) in the Column \"Expected Vol [Kg]\"\n",
    "df_vol[\n",
    "    df_vol[\"Expected Vol [Kg]\"].apply(lambda x: True if \",\" in str(x) else False)\n",
    "].head()"
   ]
  },
  {
   "cell_type": "markdown",
   "metadata": {},
   "source": [
    "A more general way to find all non-numeric characters is using a regular expresion to retrieve all those values and verify if there are any edge cases. This is important since we could have other special character in between the numbers which will provoke a `ValueError` when trying to parse it to string. "
   ]
  },
  {
   "cell_type": "code",
   "execution_count": 11,
   "metadata": {},
   "outputs": [],
   "source": [
    "def non_numeric_characters(input_string: str) -> str:\n",
    "    \"\"\"\n",
    "    Define a regular expression pattern\n",
    "    to match any non-digit character\n",
    "    \"\"\"\n",
    "    pattern = re.compile(r\"\\D\")\n",
    "    non_numeric_chars = pattern.findall(str(input_string))\n",
    "    return str(non_numeric_chars)"
   ]
  },
  {
   "cell_type": "code",
   "execution_count": 12,
   "metadata": {},
   "outputs": [
    {
     "data": {
      "text/plain": [
       "array(['[]', \"['.']\", \"['.', '.']\"], dtype=object)"
      ]
     },
     "execution_count": 12,
     "metadata": {},
     "output_type": "execute_result"
    }
   ],
   "source": [
    "# Find all non-numeric characters\n",
    "df_vol[\"Actual Vol [Kg]\"].dropna().apply(non_numeric_characters).unique()\n",
    "\n",
    "# Expected output = array(['[]', \"['.']\", \"['.', '.']\"], dtype=object)"
   ]
  },
  {
   "cell_type": "markdown",
   "metadata": {},
   "source": [
    "As we can see, the only non-numeric character in the column \"'Actual Vol [Kg]\" is the (.). So there is no problem to replace it by an empty string. "
   ]
  },
  {
   "cell_type": "code",
   "execution_count": 13,
   "metadata": {},
   "outputs": [
    {
     "data": {
      "text/plain": [
       "array(['[]', \"[',']\", \"['.']\", \"['.', '.']\"], dtype=object)"
      ]
     },
     "execution_count": 13,
     "metadata": {},
     "output_type": "execute_result"
    }
   ],
   "source": [
    "# Find all non-numeric characters\n",
    "df_vol[\"Expected Vol [Kg]\"].dropna().apply(non_numeric_characters).unique()\n",
    "\n",
    "# Expected output = array(['[]', \"[',']\", \"['.']\", \"['.', '.']\"], dtype=object)"
   ]
  },
  {
   "cell_type": "markdown",
   "metadata": {},
   "source": [
    "On the other hand, for the column \"Expected Vol [Kg]\", we see that we have both cases. We have to first replace (.) by empty string and then replace (,) by (.). Not the other way around. Now let's fix the two columns and parse them to float. We can also conver all the [Kg] to [Tons], so we have smaller number to work with."
   ]
  },
  {
   "cell_type": "code",
   "execution_count": 14,
   "metadata": {},
   "outputs": [],
   "source": [
    "df_vol[\"Actual Vol [Kg]\"] = (\n",
    "    df_vol[\"Actual Vol [Kg]\"].str.replace(\".\", \"\").astype(\"float\")\n",
    ")\n",
    "df_vol[\"Expected Vol [Kg]\"] = df_vol[\"Expected Vol [Kg]\"].str.replace(\".\", \"\")\n",
    "df_vol[\"Expected Vol [Kg]\"] = (\n",
    "    df_vol[\"Expected Vol [Kg]\"].str.replace(\",\", \".\").astype(\"float\")\n",
    ")\n",
    "\n",
    "df_vol[\"Actual Vol [Tons]\"] = np.round(df_vol[\"Actual Vol [Kg]\"] / 1000, 3)\n",
    "df_vol[\"Expected Vol [Tons]\"] = np.round(df_vol[\"Expected Vol [Kg]\"] / 1000, 3)"
   ]
  },
  {
   "cell_type": "code",
   "execution_count": 15,
   "metadata": {},
   "outputs": [
    {
     "data": {
      "text/html": [
       "<div>\n",
       "<style scoped>\n",
       "    .dataframe tbody tr th:only-of-type {\n",
       "        vertical-align: middle;\n",
       "    }\n",
       "\n",
       "    .dataframe tbody tr th {\n",
       "        vertical-align: top;\n",
       "    }\n",
       "\n",
       "    .dataframe thead th {\n",
       "        text-align: right;\n",
       "    }\n",
       "</style>\n",
       "<table border=\"1\" class=\"dataframe\">\n",
       "  <thead>\n",
       "    <tr style=\"text-align: right;\">\n",
       "      <th></th>\n",
       "      <th>Timestamp</th>\n",
       "      <th>Provider</th>\n",
       "      <th>Plant</th>\n",
       "      <th>Actual Vol [Kg]</th>\n",
       "      <th>Expected Vol [Kg]</th>\n",
       "      <th>Year</th>\n",
       "      <th>Month</th>\n",
       "      <th>ts_key</th>\n",
       "      <th>Actual Vol [Tons]</th>\n",
       "      <th>Expected Vol [Tons]</th>\n",
       "    </tr>\n",
       "  </thead>\n",
       "  <tbody>\n",
       "    <tr>\n",
       "      <th>0</th>\n",
       "      <td>2015-07-01</td>\n",
       "      <td>Provider_1</td>\n",
       "      <td>Plant_1</td>\n",
       "      <td>19096.0</td>\n",
       "      <td>20298.0</td>\n",
       "      <td>2015</td>\n",
       "      <td>7</td>\n",
       "      <td>Provider_1-Plant_1</td>\n",
       "      <td>19.096</td>\n",
       "      <td>20.298</td>\n",
       "    </tr>\n",
       "    <tr>\n",
       "      <th>1</th>\n",
       "      <td>2015-08-01</td>\n",
       "      <td>Provider_1</td>\n",
       "      <td>Plant_1</td>\n",
       "      <td>187139.0</td>\n",
       "      <td>189973.0</td>\n",
       "      <td>2015</td>\n",
       "      <td>8</td>\n",
       "      <td>Provider_1-Plant_1</td>\n",
       "      <td>187.139</td>\n",
       "      <td>189.973</td>\n",
       "    </tr>\n",
       "    <tr>\n",
       "      <th>2</th>\n",
       "      <td>2015-09-01</td>\n",
       "      <td>Provider_1</td>\n",
       "      <td>Plant_1</td>\n",
       "      <td>181149.0</td>\n",
       "      <td>187798.0</td>\n",
       "      <td>2015</td>\n",
       "      <td>9</td>\n",
       "      <td>Provider_1-Plant_1</td>\n",
       "      <td>181.149</td>\n",
       "      <td>187.798</td>\n",
       "    </tr>\n",
       "    <tr>\n",
       "      <th>3</th>\n",
       "      <td>2015-10-01</td>\n",
       "      <td>Provider_1</td>\n",
       "      <td>Plant_1</td>\n",
       "      <td>202677.0</td>\n",
       "      <td>202327.0</td>\n",
       "      <td>2015</td>\n",
       "      <td>10</td>\n",
       "      <td>Provider_1-Plant_1</td>\n",
       "      <td>202.677</td>\n",
       "      <td>202.327</td>\n",
       "    </tr>\n",
       "    <tr>\n",
       "      <th>4</th>\n",
       "      <td>2015-11-01</td>\n",
       "      <td>Provider_1</td>\n",
       "      <td>Plant_1</td>\n",
       "      <td>272902.0</td>\n",
       "      <td>271765.0</td>\n",
       "      <td>2015</td>\n",
       "      <td>11</td>\n",
       "      <td>Provider_1-Plant_1</td>\n",
       "      <td>272.902</td>\n",
       "      <td>271.765</td>\n",
       "    </tr>\n",
       "  </tbody>\n",
       "</table>\n",
       "</div>"
      ],
      "text/plain": [
       "   Timestamp    Provider    Plant  Actual Vol [Kg]  Expected Vol [Kg]  Year  \\\n",
       "0 2015-07-01  Provider_1  Plant_1          19096.0            20298.0  2015   \n",
       "1 2015-08-01  Provider_1  Plant_1         187139.0           189973.0  2015   \n",
       "2 2015-09-01  Provider_1  Plant_1         181149.0           187798.0  2015   \n",
       "3 2015-10-01  Provider_1  Plant_1         202677.0           202327.0  2015   \n",
       "4 2015-11-01  Provider_1  Plant_1         272902.0           271765.0  2015   \n",
       "\n",
       "   Month              ts_key  Actual Vol [Tons]  Expected Vol [Tons]  \n",
       "0      7  Provider_1-Plant_1             19.096               20.298  \n",
       "1      8  Provider_1-Plant_1            187.139              189.973  \n",
       "2      9  Provider_1-Plant_1            181.149              187.798  \n",
       "3     10  Provider_1-Plant_1            202.677              202.327  \n",
       "4     11  Provider_1-Plant_1            272.902              271.765  "
      ]
     },
     "execution_count": 15,
     "metadata": {},
     "output_type": "execute_result"
    }
   ],
   "source": [
    "df_vol.head()"
   ]
  },
  {
   "cell_type": "code",
   "execution_count": 16,
   "metadata": {},
   "outputs": [
    {
     "name": "stdout",
     "output_type": "stream",
     "text": [
      "<class 'pandas.core.frame.DataFrame'>\n",
      "Index: 47058 entries, 0 to 60518\n",
      "Data columns (total 10 columns):\n",
      " #   Column               Non-Null Count  Dtype         \n",
      "---  ------               --------------  -----         \n",
      " 0   Timestamp            47058 non-null  datetime64[ns]\n",
      " 1   Provider             47058 non-null  object        \n",
      " 2   Plant                47058 non-null  object        \n",
      " 3   Actual Vol [Kg]      47055 non-null  float64       \n",
      " 4   Expected Vol [Kg]    46951 non-null  float64       \n",
      " 5   Year                 47058 non-null  int64         \n",
      " 6   Month                47058 non-null  int64         \n",
      " 7   ts_key               47058 non-null  object        \n",
      " 8   Actual Vol [Tons]    47055 non-null  float64       \n",
      " 9   Expected Vol [Tons]  46951 non-null  float64       \n",
      "dtypes: datetime64[ns](1), float64(4), int64(2), object(3)\n",
      "memory usage: 3.9+ MB\n"
     ]
    }
   ],
   "source": [
    "df_vol.info()"
   ]
  },
  {
   "cell_type": "markdown",
   "metadata": {},
   "source": [
    "## 1.2 Timeseries Plots"
   ]
  },
  {
   "cell_type": "markdown",
   "metadata": {},
   "source": [
    "let's generate plot for the first Timeseries Key"
   ]
  },
  {
   "cell_type": "code",
   "execution_count": 17,
   "metadata": {},
   "outputs": [
    {
     "data": {
      "image/png": "[encoded data removed]",
      "text/plain": [
       "<Figure size 640x480 with 1 Axes>"
      ]
     },
     "metadata": {},
     "output_type": "display_data"
    },
    {
     "data": {
      "text/plain": [
       "<Figure size 1200x500 with 0 Axes>"
      ]
     },
     "metadata": {},
     "output_type": "display_data"
    }
   ],
   "source": [
    "ts_key = \"Provider_1-Plant_1\"\n",
    "x_axis = \"Timestamp\"\n",
    "y1_axis = \"Actual Vol [Tons]\"\n",
    "y2_axis = \"Expected Vol [Tons]\"\n",
    "_df = df_vol.query(f\" ts_key == '{ts_key}'\")\n",
    "x = _df[x_axis]\n",
    "y1 = _df[y1_axis]\n",
    "y2 = _df[y2_axis]\n",
    "\n",
    "# Create a figure\n",
    "fig, ax = plt.subplots()\n",
    "\n",
    "# Create a line plot\n",
    "plt.rc(\"text\", usetex=False)\n",
    "plt.figure(figsize=(12, 5))\n",
    "ax.plot(x, y1, label=y1_axis)\n",
    "ax.plot(x, y2, label=y2_axis)\n",
    "\n",
    "# Add gridlines\n",
    "ax.grid(True)\n",
    "\n",
    "# Set a light gray background color\n",
    "ax.set_facecolor(\"#f0f0f0\")\n",
    "\n",
    "# Add labels and a legend\n",
    "ax.set_xlabel(x_axis)\n",
    "ax.tick_params(axis=\"x\", rotation=90)\n",
    "ax.set_ylabel(\"Incoming Tons\")\n",
    "ax.set_title(ts_key)\n",
    "ax.legend()\n",
    "\n",
    "# # Show the plot\n",
    "plt.show()"
   ]
  },
  {
   "cell_type": "markdown",
   "metadata": {},
   "source": [
    "Now let's crate a plot per timeseries and store it as a PDF. This will allows us to spot patterns, outliers and also to have an easier tool to communicate with the business team."
   ]
  },
  {
   "cell_type": "code",
   "execution_count": 18,
   "metadata": {},
   "outputs": [
    {
     "name": "stderr",
     "output_type": "stream",
     "text": [
      "  3%|▎         | 19/624 [00:03<01:41,  5.96it/s]/tmp/ipykernel_28015/519009266.py:30: RuntimeWarning: More than 20 figures have been opened. Figures created through the pyplot interface (`matplotlib.pyplot.figure`) are retained until explicitly closed and may consume too much memory. (To control this warning, see the rcParam `figure.max_open_warning`). Consider using `matplotlib.pyplot.close()`.\n",
      "  plt.figure(figsize=(12, 5))\n",
      "  3%|▎         | 20/624 [00:03<01:40,  6.03it/s]/tmp/ipykernel_28015/519009266.py:26: RuntimeWarning: More than 20 figures have been opened. Figures created through the pyplot interface (`matplotlib.pyplot.figure`) are retained until explicitly closed and may consume too much memory. (To control this warning, see the rcParam `figure.max_open_warning`). Consider using `matplotlib.pyplot.close()`.\n",
      "  fig, ax = plt.subplots()\n",
      "100%|██████████| 624/624 [01:48<00:00,  5.73it/s]\n"
     ]
    }
   ],
   "source": [
    "# Create the PdfPages object to which we will save the pages:\n",
    "# The with statement makes sure that the PdfPages object is closed properly at\n",
    "# the end of the block, even if an Exception occurs.\n",
    "with PdfPages(\"Timeseries_Tons.pdf\") as pdf:\n",
    "    # ts_key = 'Provider_1-Plant_1'\n",
    "    x_axis = \"Timestamp\"\n",
    "    y1_axis = \"Actual Vol [Tons]\"\n",
    "    y2_axis = \"Expected Vol [Tons]\"\n",
    "\n",
    "    for ts_key in tqdm(df_vol[\"ts_key\"].unique()):\n",
    "        _df = df_vol.query(f\" ts_key == '{ts_key}'\")\n",
    "        x = _df[x_axis]\n",
    "        y1 = _df[y1_axis]\n",
    "        y2 = _df[y2_axis]\n",
    "\n",
    "        # Turn off interactive mode\n",
    "        plt.ioff()\n",
    "\n",
    "        # Activate autolayout so\n",
    "        # that the whole plot fits into one page\n",
    "        plt.rcParams[\"figure.autolayout\"] = True\n",
    "\n",
    "        # Create a figure\n",
    "        fig, ax = plt.subplots()\n",
    "\n",
    "        # Create a line plot\n",
    "        plt.rc(\"text\", usetex=False)\n",
    "        plt.figure(figsize=(12, 5))\n",
    "\n",
    "        ax.plot(x, y1, label=y1_axis)\n",
    "        ax.plot(x, y2, label=y2_axis)\n",
    "        ax.grid(True)\n",
    "        ax.set_facecolor(\"#f0f0f0\")\n",
    "\n",
    "        # Add labels\n",
    "        ax.set_xlabel(x_axis)\n",
    "        ax.tick_params(axis=\"x\", rotation=90)\n",
    "        ax.set_ylabel(\"Incoming Tons\")\n",
    "        ax.set_title(ts_key)\n",
    "        ax.legend()\n",
    "\n",
    "        # saves the current figure into a pdf page\n",
    "        pdf.savefig(fig)\n",
    "        plt.close(fig)\n",
    "\n",
    "        del _df\n",
    "\n",
    "    # We can also set the file's metadata via the PdfPages object:\n",
    "    d = pdf.infodict()\n",
    "    d[\"Title\"] = \"Timeseries Tons\"\n",
    "    d[\"Author\"] = \"John Torres\"\n",
    "    d[\"CreationDate\"] = datetime.today()"
   ]
  },
  {
   "cell_type": "markdown",
   "metadata": {},
   "source": [
    "## 1.2 Data Analysis"
   ]
  },
  {
   "cell_type": "markdown",
   "metadata": {},
   "source": [
    "Let's found out the length of every timeseries: "
   ]
  },
  {
   "cell_type": "code",
   "execution_count": 19,
   "metadata": {},
   "outputs": [],
   "source": [
    "df_vol[\"ts_len\"] = df_vol.groupby(\"ts_key\")[\"Timestamp\"].transform(lambda x: len(x))"
   ]
  },
  {
   "cell_type": "code",
   "execution_count": 20,
   "metadata": {},
   "outputs": [],
   "source": [
    "# Create a Summary of all columns\n",
    "df_vol_summary = df_vol.groupby([\"ts_key\"]).agg([\"min\", \"max\"])\n",
    "df_vol_summary.columns = [\"-\".join(x) for x in df_vol_summary.columns]\n",
    "df_vol_summary = df_vol_summary.reset_index()"
   ]
  },
  {
   "cell_type": "code",
   "execution_count": 21,
   "metadata": {},
   "outputs": [
    {
     "data": {
      "text/html": [
       "<div>\n",
       "<style scoped>\n",
       "    .dataframe tbody tr th:only-of-type {\n",
       "        vertical-align: middle;\n",
       "    }\n",
       "\n",
       "    .dataframe tbody tr th {\n",
       "        vertical-align: top;\n",
       "    }\n",
       "\n",
       "    .dataframe thead th {\n",
       "        text-align: right;\n",
       "    }\n",
       "</style>\n",
       "<table border=\"1\" class=\"dataframe\">\n",
       "  <thead>\n",
       "    <tr style=\"text-align: right;\">\n",
       "      <th></th>\n",
       "      <th>ts_key</th>\n",
       "      <th>Timestamp-min</th>\n",
       "      <th>Timestamp-max</th>\n",
       "      <th>Provider-min</th>\n",
       "      <th>Provider-max</th>\n",
       "      <th>Plant-min</th>\n",
       "      <th>Plant-max</th>\n",
       "      <th>Actual Vol [Kg]-min</th>\n",
       "      <th>Actual Vol [Kg]-max</th>\n",
       "      <th>Expected Vol [Kg]-min</th>\n",
       "      <th>...</th>\n",
       "      <th>Year-min</th>\n",
       "      <th>Year-max</th>\n",
       "      <th>Month-min</th>\n",
       "      <th>Month-max</th>\n",
       "      <th>Actual Vol [Tons]-min</th>\n",
       "      <th>Actual Vol [Tons]-max</th>\n",
       "      <th>Expected Vol [Tons]-min</th>\n",
       "      <th>Expected Vol [Tons]-max</th>\n",
       "      <th>ts_len-min</th>\n",
       "      <th>ts_len-max</th>\n",
       "    </tr>\n",
       "  </thead>\n",
       "  <tbody>\n",
       "    <tr>\n",
       "      <th>0</th>\n",
       "      <td>Provider_1-Plant_1</td>\n",
       "      <td>2015-07-01</td>\n",
       "      <td>2019-06-01</td>\n",
       "      <td>Provider_1</td>\n",
       "      <td>Provider_1</td>\n",
       "      <td>Plant_1</td>\n",
       "      <td>Plant_1</td>\n",
       "      <td>19096.0</td>\n",
       "      <td>587616.0</td>\n",
       "      <td>20298.000</td>\n",
       "      <td>...</td>\n",
       "      <td>2015</td>\n",
       "      <td>2019</td>\n",
       "      <td>1</td>\n",
       "      <td>12</td>\n",
       "      <td>19.096</td>\n",
       "      <td>587.616</td>\n",
       "      <td>20.298</td>\n",
       "      <td>531.722</td>\n",
       "      <td>48</td>\n",
       "      <td>48</td>\n",
       "    </tr>\n",
       "    <tr>\n",
       "      <th>1</th>\n",
       "      <td>Provider_1-Plant_10</td>\n",
       "      <td>2014-01-01</td>\n",
       "      <td>2019-06-01</td>\n",
       "      <td>Provider_1</td>\n",
       "      <td>Provider_1</td>\n",
       "      <td>Plant_10</td>\n",
       "      <td>Plant_10</td>\n",
       "      <td>18723.0</td>\n",
       "      <td>125475.0</td>\n",
       "      <td>0.000</td>\n",
       "      <td>...</td>\n",
       "      <td>2014</td>\n",
       "      <td>2019</td>\n",
       "      <td>1</td>\n",
       "      <td>12</td>\n",
       "      <td>18.723</td>\n",
       "      <td>125.475</td>\n",
       "      <td>0.000</td>\n",
       "      <td>118.139</td>\n",
       "      <td>66</td>\n",
       "      <td>66</td>\n",
       "    </tr>\n",
       "    <tr>\n",
       "      <th>2</th>\n",
       "      <td>Provider_1-Plant_11</td>\n",
       "      <td>2015-01-01</td>\n",
       "      <td>2019-06-01</td>\n",
       "      <td>Provider_1</td>\n",
       "      <td>Provider_1</td>\n",
       "      <td>Plant_11</td>\n",
       "      <td>Plant_11</td>\n",
       "      <td>3649.0</td>\n",
       "      <td>335834.0</td>\n",
       "      <td>13373.000</td>\n",
       "      <td>...</td>\n",
       "      <td>2015</td>\n",
       "      <td>2019</td>\n",
       "      <td>1</td>\n",
       "      <td>12</td>\n",
       "      <td>3.649</td>\n",
       "      <td>335.834</td>\n",
       "      <td>13.373</td>\n",
       "      <td>298.463</td>\n",
       "      <td>48</td>\n",
       "      <td>48</td>\n",
       "    </tr>\n",
       "    <tr>\n",
       "      <th>3</th>\n",
       "      <td>Provider_1-Plant_12</td>\n",
       "      <td>2014-01-01</td>\n",
       "      <td>2019-06-01</td>\n",
       "      <td>Provider_1</td>\n",
       "      <td>Provider_1</td>\n",
       "      <td>Plant_12</td>\n",
       "      <td>Plant_12</td>\n",
       "      <td>224448.0</td>\n",
       "      <td>603847.0</td>\n",
       "      <td>217346.995</td>\n",
       "      <td>...</td>\n",
       "      <td>2014</td>\n",
       "      <td>2019</td>\n",
       "      <td>1</td>\n",
       "      <td>12</td>\n",
       "      <td>224.448</td>\n",
       "      <td>603.847</td>\n",
       "      <td>217.347</td>\n",
       "      <td>542.661</td>\n",
       "      <td>66</td>\n",
       "      <td>66</td>\n",
       "    </tr>\n",
       "    <tr>\n",
       "      <th>4</th>\n",
       "      <td>Provider_1-Plant_13</td>\n",
       "      <td>2014-01-01</td>\n",
       "      <td>2019-06-01</td>\n",
       "      <td>Provider_1</td>\n",
       "      <td>Provider_1</td>\n",
       "      <td>Plant_13</td>\n",
       "      <td>Plant_13</td>\n",
       "      <td>158588.0</td>\n",
       "      <td>1173034.0</td>\n",
       "      <td>154686.111</td>\n",
       "      <td>...</td>\n",
       "      <td>2014</td>\n",
       "      <td>2019</td>\n",
       "      <td>1</td>\n",
       "      <td>12</td>\n",
       "      <td>158.588</td>\n",
       "      <td>1173.034</td>\n",
       "      <td>154.686</td>\n",
       "      <td>1143.231</td>\n",
       "      <td>66</td>\n",
       "      <td>66</td>\n",
       "    </tr>\n",
       "  </tbody>\n",
       "</table>\n",
       "<p>5 rows × 21 columns</p>\n",
       "</div>"
      ],
      "text/plain": [
       "                ts_key Timestamp-min Timestamp-max Provider-min Provider-max  \\\n",
       "0   Provider_1-Plant_1    2015-07-01    2019-06-01   Provider_1   Provider_1   \n",
       "1  Provider_1-Plant_10    2014-01-01    2019-06-01   Provider_1   Provider_1   \n",
       "2  Provider_1-Plant_11    2015-01-01    2019-06-01   Provider_1   Provider_1   \n",
       "3  Provider_1-Plant_12    2014-01-01    2019-06-01   Provider_1   Provider_1   \n",
       "4  Provider_1-Plant_13    2014-01-01    2019-06-01   Provider_1   Provider_1   \n",
       "\n",
       "  Plant-min Plant-max  Actual Vol [Kg]-min  Actual Vol [Kg]-max  \\\n",
       "0   Plant_1   Plant_1              19096.0             587616.0   \n",
       "1  Plant_10  Plant_10              18723.0             125475.0   \n",
       "2  Plant_11  Plant_11               3649.0             335834.0   \n",
       "3  Plant_12  Plant_12             224448.0             603847.0   \n",
       "4  Plant_13  Plant_13             158588.0            1173034.0   \n",
       "\n",
       "   Expected Vol [Kg]-min  ...  Year-min  Year-max  Month-min  Month-max  \\\n",
       "0              20298.000  ...      2015      2019          1         12   \n",
       "1                  0.000  ...      2014      2019          1         12   \n",
       "2              13373.000  ...      2015      2019          1         12   \n",
       "3             217346.995  ...      2014      2019          1         12   \n",
       "4             154686.111  ...      2014      2019          1         12   \n",
       "\n",
       "   Actual Vol [Tons]-min  Actual Vol [Tons]-max  Expected Vol [Tons]-min  \\\n",
       "0                 19.096                587.616                   20.298   \n",
       "1                 18.723                125.475                    0.000   \n",
       "2                  3.649                335.834                   13.373   \n",
       "3                224.448                603.847                  217.347   \n",
       "4                158.588               1173.034                  154.686   \n",
       "\n",
       "   Expected Vol [Tons]-max  ts_len-min  ts_len-max  \n",
       "0                  531.722          48          48  \n",
       "1                  118.139          66          66  \n",
       "2                  298.463          48          48  \n",
       "3                  542.661          66          66  \n",
       "4                 1143.231          66          66  \n",
       "\n",
       "[5 rows x 21 columns]"
      ]
     },
     "execution_count": 21,
     "metadata": {},
     "output_type": "execute_result"
    }
   ],
   "source": [
    "df_vol_summary.head()"
   ]
  },
  {
   "cell_type": "code",
   "execution_count": 22,
   "metadata": {},
   "outputs": [
    {
     "name": "stdout",
     "output_type": "stream",
     "text": [
      " The min date available among all timeseries is:  2014-01-01 00:00:00\n",
      " The max date available among all timeseries is:  2022-10-01 00:00:00\n",
      " The min ts length is:  1\n",
      " The max ts length is:  113\n",
      " Number of time series with data until October 2022:  306\n",
      " Number of Total Time Series Available:  624\n",
      " Number of Total Time Series Available:  49.0  %\n"
     ]
    }
   ],
   "source": [
    "print(\n",
    "    \" The min date available among all timeseries is: \",\n",
    "    df_vol_summary[\"Timestamp-min\"].min(),\n",
    ")\n",
    "print(\n",
    "    \" The max date available among all timeseries is: \",\n",
    "    df_vol_summary[\"Timestamp-max\"].max(),\n",
    ")\n",
    "\n",
    "print(\" The min ts length is: \", df_vol_summary[\"ts_len-min\"].min())\n",
    "print(\" The max ts length is: \", df_vol_summary[\"ts_len-max\"].max())\n",
    "\n",
    "ts_with_current_data = df_vol_summary[\n",
    "    df_vol_summary[\"Timestamp-max\"] == df_vol_summary[\"Timestamp-max\"].max()\n",
    "][\"ts_key\"].nunique()\n",
    "\n",
    "print(\" Number of time series with data until October 2022: \", ts_with_current_data)\n",
    "print(\" Number of Total Time Series Available: \", df_vol_summary[\"ts_key\"].nunique())\n",
    "print(\n",
    "    \" Number of Total Time Series Available: \",\n",
    "    np.round(ts_with_current_data / df_vol_summary[\"ts_key\"].nunique(), 2) * 100,\n",
    "    \" %\",\n",
    ")"
   ]
  },
  {
   "cell_type": "markdown",
   "metadata": {},
   "source": [
    "## 1.3 Data Filtering"
   ]
  },
  {
   "cell_type": "markdown",
   "metadata": {},
   "source": [
    "Since we found out that out only 49% of all timeseries are available at the last max date. Those are the timeseries which will be relevant for forecasting, otherwise indicated by the business team. We will therefore focused on those timeseries from now on to analyse their patterns and create the forecast."
   ]
  },
  {
   "cell_type": "code",
   "execution_count": 23,
   "metadata": {},
   "outputs": [],
   "source": [
    "valid_ts = df_vol_summary[\n",
    "    df_vol_summary[\"Timestamp-max\"] == df_vol_summary[\"Timestamp-max\"].max()\n",
    "][\"ts_key\"].unique()\n",
    "\n",
    "# Now we just keep those valid timeseries from the data\n",
    "# we overwrite our dataset\n",
    "df_vol = df_vol[df_vol[\"ts_key\"].isin(valid_ts)].copy()"
   ]
  },
  {
   "cell_type": "code",
   "execution_count": 24,
   "metadata": {},
   "outputs": [
    {
     "name": "stdout",
     "output_type": "stream",
     "text": [
      "Number of available timeseries after filtering: 306\n"
     ]
    }
   ],
   "source": [
    "# We just verify our filter was made correctly\n",
    "# We validate that all ts_key in our new df_vol\n",
    "# are the same as the one in the list valid_ts\n",
    "assert set(df_vol[\"ts_key\"].unique()) == set(valid_ts), \"There are missing timeseries\"\n",
    "\n",
    "print(\"Number of available timeseries after filtering:\", df_vol[\"ts_key\"].nunique())"
   ]
  },
  {
   "cell_type": "markdown",
   "metadata": {},
   "source": [
    "Now let's check for max and min ts length"
   ]
  },
  {
   "cell_type": "code",
   "execution_count": 25,
   "metadata": {},
   "outputs": [
    {
     "name": "stdout",
     "output_type": "stream",
     "text": [
      " The min ts length is  1\n",
      " The max ts length is  113\n",
      " The mean ts length is  97.5268455014001\n"
     ]
    }
   ],
   "source": [
    "print(\" The min ts length is \", df_vol[\"ts_len\"].min())\n",
    "print(\" The max ts length is \", df_vol[\"ts_len\"].max())\n",
    "print(\" The mean ts length is \", df_vol[\"ts_len\"].mean())"
   ]
  },
  {
   "cell_type": "markdown",
   "metadata": {},
   "source": [
    "Then, together with the Business Area we will define a threshold for which forecast can be generated for a model, in this case, we will select 8, which is 2 times the target horizon we want to forecast for. Anything below that threshold will be forecast by a rule-based method."
   ]
  },
  {
   "cell_type": "code",
   "execution_count": 26,
   "metadata": {},
   "outputs": [
    {
     "name": "stdout",
     "output_type": "stream",
     "text": [
      " TS to forecast with Models 266\n",
      " TS to forecast with Models 87.0  %\n"
     ]
    }
   ],
   "source": [
    "ts_len_threshold = 8\n",
    "remaining_ts = df_vol[df_vol[\"ts_len\"] > ts_len_threshold][\"ts_key\"].nunique()\n",
    "print(\" TS to forecast with Models\", remaining_ts)\n",
    "print(\n",
    "    \" TS to forecast with Models\", np.round(remaining_ts / len(valid_ts), 2) * 100, \" %\"\n",
    ")"
   ]
  },
  {
   "cell_type": "markdown",
   "metadata": {},
   "source": [
    "## 1.4 Data Completeness"
   ]
  },
  {
   "cell_type": "markdown",
   "metadata": {},
   "source": [
    "There is another edge case, which can appear in this kind of data. Since this is monthly incoming volume into the plants. There are providers which might deliver multiple time during a month. Causing that for some months we have multiple entries, like this case:"
   ]
  },
  {
   "cell_type": "code",
   "execution_count": 27,
   "metadata": {},
   "outputs": [
    {
     "data": {
      "text/html": [
       "<div>\n",
       "<style scoped>\n",
       "    .dataframe tbody tr th:only-of-type {\n",
       "        vertical-align: middle;\n",
       "    }\n",
       "\n",
       "    .dataframe tbody tr th {\n",
       "        vertical-align: top;\n",
       "    }\n",
       "\n",
       "    .dataframe thead th {\n",
       "        text-align: right;\n",
       "    }\n",
       "</style>\n",
       "<table border=\"1\" class=\"dataframe\">\n",
       "  <thead>\n",
       "    <tr style=\"text-align: right;\">\n",
       "      <th></th>\n",
       "      <th>Timestamp</th>\n",
       "      <th>Provider</th>\n",
       "      <th>Plant</th>\n",
       "      <th>Actual Vol [Kg]</th>\n",
       "      <th>Expected Vol [Kg]</th>\n",
       "      <th>Year</th>\n",
       "      <th>Month</th>\n",
       "      <th>ts_key</th>\n",
       "      <th>Actual Vol [Tons]</th>\n",
       "      <th>Expected Vol [Tons]</th>\n",
       "      <th>ts_len</th>\n",
       "    </tr>\n",
       "  </thead>\n",
       "  <tbody>\n",
       "    <tr>\n",
       "      <th>22462</th>\n",
       "      <td>2014-11-01</td>\n",
       "      <td>Provider_27</td>\n",
       "      <td>Plant_19</td>\n",
       "      <td>2680.0</td>\n",
       "      <td>5649.0</td>\n",
       "      <td>2014</td>\n",
       "      <td>11</td>\n",
       "      <td>Provider_27-Plant_19</td>\n",
       "      <td>2.680</td>\n",
       "      <td>5.649</td>\n",
       "      <td>113</td>\n",
       "    </tr>\n",
       "    <tr>\n",
       "      <th>22463</th>\n",
       "      <td>2014-11-01</td>\n",
       "      <td>Provider_27</td>\n",
       "      <td>Plant_19</td>\n",
       "      <td>2680.0</td>\n",
       "      <td>1167473.0</td>\n",
       "      <td>2014</td>\n",
       "      <td>11</td>\n",
       "      <td>Provider_27-Plant_19</td>\n",
       "      <td>2.680</td>\n",
       "      <td>1167.473</td>\n",
       "      <td>113</td>\n",
       "    </tr>\n",
       "    <tr>\n",
       "      <th>22464</th>\n",
       "      <td>2014-11-01</td>\n",
       "      <td>Provider_27</td>\n",
       "      <td>Plant_19</td>\n",
       "      <td>1161028.0</td>\n",
       "      <td>5649.0</td>\n",
       "      <td>2014</td>\n",
       "      <td>11</td>\n",
       "      <td>Provider_27-Plant_19</td>\n",
       "      <td>1161.028</td>\n",
       "      <td>5.649</td>\n",
       "      <td>113</td>\n",
       "    </tr>\n",
       "    <tr>\n",
       "      <th>22465</th>\n",
       "      <td>2014-11-01</td>\n",
       "      <td>Provider_27</td>\n",
       "      <td>Plant_19</td>\n",
       "      <td>1161028.0</td>\n",
       "      <td>1167473.0</td>\n",
       "      <td>2014</td>\n",
       "      <td>11</td>\n",
       "      <td>Provider_27-Plant_19</td>\n",
       "      <td>1161.028</td>\n",
       "      <td>1167.473</td>\n",
       "      <td>113</td>\n",
       "    </tr>\n",
       "    <tr>\n",
       "      <th>22466</th>\n",
       "      <td>2014-11-01</td>\n",
       "      <td>Provider_27</td>\n",
       "      <td>Plant_19</td>\n",
       "      <td>2680.0</td>\n",
       "      <td>5649.0</td>\n",
       "      <td>2014</td>\n",
       "      <td>11</td>\n",
       "      <td>Provider_27-Plant_19</td>\n",
       "      <td>2.680</td>\n",
       "      <td>5.649</td>\n",
       "      <td>113</td>\n",
       "    </tr>\n",
       "  </tbody>\n",
       "</table>\n",
       "</div>"
      ],
      "text/plain": [
       "       Timestamp     Provider     Plant  Actual Vol [Kg]  Expected Vol [Kg]  \\\n",
       "22462 2014-11-01  Provider_27  Plant_19           2680.0             5649.0   \n",
       "22463 2014-11-01  Provider_27  Plant_19           2680.0          1167473.0   \n",
       "22464 2014-11-01  Provider_27  Plant_19        1161028.0             5649.0   \n",
       "22465 2014-11-01  Provider_27  Plant_19        1161028.0          1167473.0   \n",
       "22466 2014-11-01  Provider_27  Plant_19           2680.0             5649.0   \n",
       "\n",
       "       Year  Month                ts_key  Actual Vol [Tons]  \\\n",
       "22462  2014     11  Provider_27-Plant_19              2.680   \n",
       "22463  2014     11  Provider_27-Plant_19              2.680   \n",
       "22464  2014     11  Provider_27-Plant_19           1161.028   \n",
       "22465  2014     11  Provider_27-Plant_19           1161.028   \n",
       "22466  2014     11  Provider_27-Plant_19              2.680   \n",
       "\n",
       "       Expected Vol [Tons]  ts_len  \n",
       "22462                5.649     113  \n",
       "22463             1167.473     113  \n",
       "22464                5.649     113  \n",
       "22465             1167.473     113  \n",
       "22466                5.649     113  "
      ]
     },
     "execution_count": 27,
     "metadata": {},
     "output_type": "execute_result"
    }
   ],
   "source": [
    "df_vol[\n",
    "    (df_vol[\"ts_key\"] == \"Provider_27-Plant_19\") & (df_vol[\"Timestamp\"] == \"2014-11-01\")\n",
    "].head()"
   ]
  },
  {
   "cell_type": "markdown",
   "metadata": {},
   "source": [
    "In this case we would have to discuss again with the business team. The solution is just to add up all entries to one month. We can verify for how many timeseries we encounter this case, like this:"
   ]
  },
  {
   "cell_type": "code",
   "execution_count": 28,
   "metadata": {},
   "outputs": [],
   "source": [
    "# The idea is the for every 'Timestamp','ts_key' combination\n",
    "# there should be only one entry for the column 'Actual Vol [Kg]'\n",
    "df_vol_validator = (\n",
    "    df_vol[[\"Timestamp\", \"ts_key\", \"Actual Vol [Kg]\"]]\n",
    "    .groupby([\"Timestamp\", \"ts_key\"])\n",
    "    .count()\n",
    "    .rename(columns={\"Actual Vol [Kg]\": \"n_values\"})\n",
    "    .reset_index()\n",
    ")"
   ]
  },
  {
   "cell_type": "code",
   "execution_count": 29,
   "metadata": {},
   "outputs": [
    {
     "data": {
      "text/html": [
       "<div>\n",
       "<style scoped>\n",
       "    .dataframe tbody tr th:only-of-type {\n",
       "        vertical-align: middle;\n",
       "    }\n",
       "\n",
       "    .dataframe tbody tr th {\n",
       "        vertical-align: top;\n",
       "    }\n",
       "\n",
       "    .dataframe thead th {\n",
       "        text-align: right;\n",
       "    }\n",
       "</style>\n",
       "<table border=\"1\" class=\"dataframe\">\n",
       "  <thead>\n",
       "    <tr style=\"text-align: right;\">\n",
       "      <th></th>\n",
       "      <th>Timestamp</th>\n",
       "      <th>ts_key</th>\n",
       "      <th>n_values</th>\n",
       "    </tr>\n",
       "  </thead>\n",
       "  <tbody>\n",
       "    <tr>\n",
       "      <th>0</th>\n",
       "      <td>2014-01-01</td>\n",
       "      <td>Provider_10-Plant_10</td>\n",
       "      <td>1</td>\n",
       "    </tr>\n",
       "    <tr>\n",
       "      <th>1</th>\n",
       "      <td>2014-01-01</td>\n",
       "      <td>Provider_10-Plant_11</td>\n",
       "      <td>1</td>\n",
       "    </tr>\n",
       "    <tr>\n",
       "      <th>2</th>\n",
       "      <td>2014-01-01</td>\n",
       "      <td>Provider_10-Plant_12</td>\n",
       "      <td>1</td>\n",
       "    </tr>\n",
       "    <tr>\n",
       "      <th>3</th>\n",
       "      <td>2014-01-01</td>\n",
       "      <td>Provider_10-Plant_13</td>\n",
       "      <td>1</td>\n",
       "    </tr>\n",
       "    <tr>\n",
       "      <th>4</th>\n",
       "      <td>2014-01-01</td>\n",
       "      <td>Provider_10-Plant_14</td>\n",
       "      <td>1</td>\n",
       "    </tr>\n",
       "  </tbody>\n",
       "</table>\n",
       "</div>"
      ],
      "text/plain": [
       "   Timestamp                ts_key  n_values\n",
       "0 2014-01-01  Provider_10-Plant_10         1\n",
       "1 2014-01-01  Provider_10-Plant_11         1\n",
       "2 2014-01-01  Provider_10-Plant_12         1\n",
       "3 2014-01-01  Provider_10-Plant_13         1\n",
       "4 2014-01-01  Provider_10-Plant_14         1"
      ]
     },
     "execution_count": 29,
     "metadata": {},
     "output_type": "execute_result"
    }
   ],
   "source": [
    "df_vol_validator.head()"
   ]
  },
  {
   "cell_type": "markdown",
   "metadata": {},
   "source": [
    "Invalid entries will have n_values > 1. "
   ]
  },
  {
   "cell_type": "code",
   "execution_count": 30,
   "metadata": {},
   "outputs": [
    {
     "data": {
      "text/html": [
       "<div>\n",
       "<style scoped>\n",
       "    .dataframe tbody tr th:only-of-type {\n",
       "        vertical-align: middle;\n",
       "    }\n",
       "\n",
       "    .dataframe tbody tr th {\n",
       "        vertical-align: top;\n",
       "    }\n",
       "\n",
       "    .dataframe thead th {\n",
       "        text-align: right;\n",
       "    }\n",
       "</style>\n",
       "<table border=\"1\" class=\"dataframe\">\n",
       "  <thead>\n",
       "    <tr style=\"text-align: right;\">\n",
       "      <th></th>\n",
       "      <th>Timestamp</th>\n",
       "      <th>ts_key</th>\n",
       "      <th>n_values</th>\n",
       "    </tr>\n",
       "  </thead>\n",
       "  <tbody>\n",
       "    <tr>\n",
       "      <th>1920</th>\n",
       "      <td>2014-11-01</td>\n",
       "      <td>Provider_27-Plant_19</td>\n",
       "      <td>8</td>\n",
       "    </tr>\n",
       "  </tbody>\n",
       "</table>\n",
       "</div>"
      ],
      "text/plain": [
       "      Timestamp                ts_key  n_values\n",
       "1920 2014-11-01  Provider_27-Plant_19         8"
      ]
     },
     "execution_count": 30,
     "metadata": {},
     "output_type": "execute_result"
    }
   ],
   "source": [
    "df_vol_validator[df_vol_validator[\"n_values\"] > 1].head()"
   ]
  },
  {
   "cell_type": "markdown",
   "metadata": {},
   "source": [
    "In this case we only found one case. However, this is another important example on how to verify data completeness. Let's now add up all those entries to a single row for both the columns `Actual Vol [Tons]` abd `Expected Vol [Tons]`."
   ]
  },
  {
   "cell_type": "code",
   "execution_count": 31,
   "metadata": {},
   "outputs": [],
   "source": [
    "df_vol_c = (\n",
    "    df_vol[[\"Timestamp\", \"ts_key\", \"Actual Vol [Tons]\", \"Expected Vol [Tons]\"]]\n",
    "    .groupby([\"Timestamp\", \"ts_key\"], group_keys=False)\n",
    "    .agg(\n",
    "        {\n",
    "            \"Actual Vol [Tons]\": sum,\n",
    "            \"Expected Vol [Tons]\": sum,\n",
    "        }\n",
    "    )\n",
    "    .reset_index()\n",
    "    .set_index(\"Timestamp\")\n",
    ")"
   ]
  },
  {
   "cell_type": "code",
   "execution_count": 32,
   "metadata": {},
   "outputs": [],
   "source": [
    "# Verify that every Timestamp-Plant combination only contains one entry\n",
    "df_verify = (\n",
    "    df_vol_c.groupby([\"Timestamp\", \"ts_key\"])[\"Actual Vol [Tons]\"]\n",
    "    .count()\n",
    "    .to_frame()\n",
    "    .rename(columns={\"Actual Vol [Tons]\": \"n_values\"})\n",
    ")\n",
    "assert df_verify[\"n_values\"].unique() == np.array([1])"
   ]
  },
  {
   "cell_type": "markdown",
   "metadata": {},
   "source": [
    "Now we will make sure that all timeseries are complete, i.e. any missing datapoint inbetween should be filled up. Later when applying data preprocessing, we can apply different methods to interpolate those missing values. "
   ]
  },
  {
   "cell_type": "code",
   "execution_count": 33,
   "metadata": {},
   "outputs": [
    {
     "name": "stderr",
     "output_type": "stream",
     "text": [
      "100%|██████████| 306/306 [00:01<00:00, 193.09it/s]\n"
     ]
    }
   ],
   "source": [
    "ts = pd.DataFrame()\n",
    "# ref: https://pandas.pydata.org/docs/user_guide/timeseries.html#timeseries-offset-aliases'\n",
    "for ts_key in tqdm(df_vol_c[\"ts_key\"].unique()):\n",
    "    # build custom date range for timeseries\n",
    "    idx = pd.date_range(\n",
    "        start=df_vol_c[df_vol_c[\"ts_key\"] == ts_key].index.min(),\n",
    "        end=df_vol_c.index.max(),\n",
    "        freq=\"MS\",  # Start of month\n",
    "        name=\"Timestamp\",\n",
    "    )\n",
    "\n",
    "    # fill holes in time series\n",
    "    df = df_vol_c.loc[df_vol_c[\"ts_key\"] == ts_key].reindex(idx)\n",
    "    df.fillna(\n",
    "        {\n",
    "            \"ts_key\": ts_key,\n",
    "            \"Actual Vol [Tons]\": 0,\n",
    "            \"Expected Vol [Tons]\": 0,\n",
    "        },\n",
    "        inplace=True,\n",
    "    )\n",
    "    df[\"Actual Vol [Tons]\"] = df[\"Actual Vol [Tons]\"].astype(np.float32)\n",
    "    df[\"Expected Vol [Tons]\"] = df[\"Expected Vol [Tons]\"].astype(np.float32)\n",
    "\n",
    "    if ts.empty:\n",
    "        ts = df\n",
    "    else:\n",
    "        ts = pd.concat([ts, df])\n",
    "\n",
    "    del df"
   ]
  },
  {
   "cell_type": "code",
   "execution_count": 34,
   "metadata": {},
   "outputs": [],
   "source": [
    "ts.reset_index(inplace=True)"
   ]
  },
  {
   "cell_type": "code",
   "execution_count": 35,
   "metadata": {},
   "outputs": [],
   "source": [
    "# Create Column Plant\n",
    "ts[\"Plant\"] = ts[\"ts_key\"].apply(lambda x: x.split(\"-\")[1])"
   ]
  },
  {
   "cell_type": "code",
   "execution_count": 36,
   "metadata": {},
   "outputs": [
    {
     "data": {
      "text/html": [
       "<div>\n",
       "<style scoped>\n",
       "    .dataframe tbody tr th:only-of-type {\n",
       "        vertical-align: middle;\n",
       "    }\n",
       "\n",
       "    .dataframe tbody tr th {\n",
       "        vertical-align: top;\n",
       "    }\n",
       "\n",
       "    .dataframe thead th {\n",
       "        text-align: right;\n",
       "    }\n",
       "</style>\n",
       "<table border=\"1\" class=\"dataframe\">\n",
       "  <thead>\n",
       "    <tr style=\"text-align: right;\">\n",
       "      <th></th>\n",
       "      <th>Timestamp</th>\n",
       "      <th>ts_key</th>\n",
       "      <th>Actual Vol [Tons]</th>\n",
       "      <th>Expected Vol [Tons]</th>\n",
       "      <th>Plant</th>\n",
       "    </tr>\n",
       "  </thead>\n",
       "  <tbody>\n",
       "    <tr>\n",
       "      <th>0</th>\n",
       "      <td>2014-01-01</td>\n",
       "      <td>Provider_10-Plant_10</td>\n",
       "      <td>476.199005</td>\n",
       "      <td>482.835999</td>\n",
       "      <td>Plant_10</td>\n",
       "    </tr>\n",
       "    <tr>\n",
       "      <th>1</th>\n",
       "      <td>2014-02-01</td>\n",
       "      <td>Provider_10-Plant_10</td>\n",
       "      <td>388.113007</td>\n",
       "      <td>388.118011</td>\n",
       "      <td>Plant_10</td>\n",
       "    </tr>\n",
       "    <tr>\n",
       "      <th>2</th>\n",
       "      <td>2014-03-01</td>\n",
       "      <td>Provider_10-Plant_10</td>\n",
       "      <td>527.382996</td>\n",
       "      <td>538.025024</td>\n",
       "      <td>Plant_10</td>\n",
       "    </tr>\n",
       "    <tr>\n",
       "      <th>3</th>\n",
       "      <td>2014-04-01</td>\n",
       "      <td>Provider_10-Plant_10</td>\n",
       "      <td>470.321991</td>\n",
       "      <td>483.035004</td>\n",
       "      <td>Plant_10</td>\n",
       "    </tr>\n",
       "    <tr>\n",
       "      <th>4</th>\n",
       "      <td>2014-05-01</td>\n",
       "      <td>Provider_10-Plant_10</td>\n",
       "      <td>500.139008</td>\n",
       "      <td>512.685974</td>\n",
       "      <td>Plant_10</td>\n",
       "    </tr>\n",
       "  </tbody>\n",
       "</table>\n",
       "</div>"
      ],
      "text/plain": [
       "   Timestamp                ts_key  Actual Vol [Tons]  Expected Vol [Tons]  \\\n",
       "0 2014-01-01  Provider_10-Plant_10         476.199005           482.835999   \n",
       "1 2014-02-01  Provider_10-Plant_10         388.113007           388.118011   \n",
       "2 2014-03-01  Provider_10-Plant_10         527.382996           538.025024   \n",
       "3 2014-04-01  Provider_10-Plant_10         470.321991           483.035004   \n",
       "4 2014-05-01  Provider_10-Plant_10         500.139008           512.685974   \n",
       "\n",
       "      Plant  \n",
       "0  Plant_10  \n",
       "1  Plant_10  \n",
       "2  Plant_10  \n",
       "3  Plant_10  \n",
       "4  Plant_10  "
      ]
     },
     "execution_count": 36,
     "metadata": {},
     "output_type": "execute_result"
    }
   ],
   "source": [
    "ts.head()"
   ]
  },
  {
   "cell_type": "markdown",
   "metadata": {},
   "source": [
    "# 2. Production Data"
   ]
  },
  {
   "cell_type": "code",
   "execution_count": 37,
   "metadata": {},
   "outputs": [],
   "source": [
    "df_prod = pd.read_csv(\"../data/production_data.csv\", index_col=0)"
   ]
  },
  {
   "cell_type": "code",
   "execution_count": 38,
   "metadata": {},
   "outputs": [
    {
     "data": {
      "text/html": [
       "<div>\n",
       "<style scoped>\n",
       "    .dataframe tbody tr th:only-of-type {\n",
       "        vertical-align: middle;\n",
       "    }\n",
       "\n",
       "    .dataframe tbody tr th {\n",
       "        vertical-align: top;\n",
       "    }\n",
       "\n",
       "    .dataframe thead th {\n",
       "        text-align: right;\n",
       "    }\n",
       "</style>\n",
       "<table border=\"1\" class=\"dataframe\">\n",
       "  <thead>\n",
       "    <tr style=\"text-align: right;\">\n",
       "      <th></th>\n",
       "      <th>Timestamp</th>\n",
       "      <th>Plant_6</th>\n",
       "      <th>Plant_9</th>\n",
       "      <th>Plant_13</th>\n",
       "      <th>Plant_15</th>\n",
       "      <th>Plant_17</th>\n",
       "      <th>Plant_19</th>\n",
       "      <th>Plant_21</th>\n",
       "      <th>Plant_11</th>\n",
       "      <th>Plant_4</th>\n",
       "      <th>Plant_12</th>\n",
       "      <th>Plant_20</th>\n",
       "      <th>Plant_14</th>\n",
       "      <th>Plant_22</th>\n",
       "      <th>Plant_1</th>\n",
       "      <th>Plant_3</th>\n",
       "      <th>Plant_5</th>\n",
       "      <th>Plant_18</th>\n",
       "      <th>Plant_10</th>\n",
       "    </tr>\n",
       "  </thead>\n",
       "  <tbody>\n",
       "    <tr>\n",
       "      <th>0</th>\n",
       "      <td>2014/01</td>\n",
       "      <td>11848</td>\n",
       "      <td>54138</td>\n",
       "      <td>33839</td>\n",
       "      <td>19438</td>\n",
       "      <td>6770</td>\n",
       "      <td>29098</td>\n",
       "      <td>45147</td>\n",
       "      <td>8578</td>\n",
       "      <td>326919</td>\n",
       "      <td>11668</td>\n",
       "      <td>93855</td>\n",
       "      <td>68067</td>\n",
       "      <td>13127</td>\n",
       "      <td>26363</td>\n",
       "      <td>26363</td>\n",
       "      <td>5799</td>\n",
       "      <td>13749</td>\n",
       "      <td>3633</td>\n",
       "    </tr>\n",
       "    <tr>\n",
       "      <th>1</th>\n",
       "      <td>2014/02</td>\n",
       "      <td>13528</td>\n",
       "      <td>53063</td>\n",
       "      <td>36690</td>\n",
       "      <td>24252</td>\n",
       "      <td>6943</td>\n",
       "      <td>26975</td>\n",
       "      <td>42656</td>\n",
       "      <td>9739</td>\n",
       "      <td>334540</td>\n",
       "      <td>11275</td>\n",
       "      <td>92865</td>\n",
       "      <td>66012</td>\n",
       "      <td>18565</td>\n",
       "      <td>29822</td>\n",
       "      <td>29822</td>\n",
       "      <td>7978</td>\n",
       "      <td>12880</td>\n",
       "      <td>2880</td>\n",
       "    </tr>\n",
       "    <tr>\n",
       "      <th>2</th>\n",
       "      <td>2014/03</td>\n",
       "      <td>12753</td>\n",
       "      <td>50551</td>\n",
       "      <td>38211</td>\n",
       "      <td>24978</td>\n",
       "      <td>7695</td>\n",
       "      <td>28991</td>\n",
       "      <td>46226</td>\n",
       "      <td>10619</td>\n",
       "      <td>356075</td>\n",
       "      <td>12306</td>\n",
       "      <td>99860</td>\n",
       "      <td>71251</td>\n",
       "      <td>19505</td>\n",
       "      <td>28915</td>\n",
       "      <td>28915</td>\n",
       "      <td>8149</td>\n",
       "      <td>13348</td>\n",
       "      <td>4165</td>\n",
       "    </tr>\n",
       "    <tr>\n",
       "      <th>3</th>\n",
       "      <td>2014/04</td>\n",
       "      <td>12681</td>\n",
       "      <td>52528</td>\n",
       "      <td>36979</td>\n",
       "      <td>23872</td>\n",
       "      <td>7436</td>\n",
       "      <td>27409</td>\n",
       "      <td>47929</td>\n",
       "      <td>10379</td>\n",
       "      <td>351736</td>\n",
       "      <td>11790</td>\n",
       "      <td>95409</td>\n",
       "      <td>66233</td>\n",
       "      <td>23983</td>\n",
       "      <td>29441</td>\n",
       "      <td>29441</td>\n",
       "      <td>5020</td>\n",
       "      <td>15650</td>\n",
       "      <td>4457</td>\n",
       "    </tr>\n",
       "    <tr>\n",
       "      <th>4</th>\n",
       "      <td>2014/05</td>\n",
       "      <td>13272</td>\n",
       "      <td>50855</td>\n",
       "      <td>31164</td>\n",
       "      <td>24145</td>\n",
       "      <td>7415</td>\n",
       "      <td>27959</td>\n",
       "      <td>47255</td>\n",
       "      <td>12155</td>\n",
       "      <td>332888</td>\n",
       "      <td>10407</td>\n",
       "      <td>97371</td>\n",
       "      <td>69890</td>\n",
       "      <td>21139</td>\n",
       "      <td>28110</td>\n",
       "      <td>28110</td>\n",
       "      <td>7087</td>\n",
       "      <td>15940</td>\n",
       "      <td>4035</td>\n",
       "    </tr>\n",
       "  </tbody>\n",
       "</table>\n",
       "</div>"
      ],
      "text/plain": [
       "  Timestamp  Plant_6  Plant_9  Plant_13  Plant_15  Plant_17  Plant_19  \\\n",
       "0   2014/01    11848    54138     33839     19438      6770     29098   \n",
       "1   2014/02    13528    53063     36690     24252      6943     26975   \n",
       "2   2014/03    12753    50551     38211     24978      7695     28991   \n",
       "3   2014/04    12681    52528     36979     23872      7436     27409   \n",
       "4   2014/05    13272    50855     31164     24145      7415     27959   \n",
       "\n",
       "   Plant_21  Plant_11  Plant_4  Plant_12  Plant_20  Plant_14  Plant_22  \\\n",
       "0     45147      8578   326919     11668     93855     68067     13127   \n",
       "1     42656      9739   334540     11275     92865     66012     18565   \n",
       "2     46226     10619   356075     12306     99860     71251     19505   \n",
       "3     47929     10379   351736     11790     95409     66233     23983   \n",
       "4     47255     12155   332888     10407     97371     69890     21139   \n",
       "\n",
       "   Plant_1  Plant_3  Plant_5  Plant_18  Plant_10  \n",
       "0    26363    26363     5799     13749      3633  \n",
       "1    29822    29822     7978     12880      2880  \n",
       "2    28915    28915     8149     13348      4165  \n",
       "3    29441    29441     5020     15650      4457  \n",
       "4    28110    28110     7087     15940      4035  "
      ]
     },
     "execution_count": 38,
     "metadata": {},
     "output_type": "execute_result"
    }
   ],
   "source": [
    "df_prod.head()"
   ]
  },
  {
   "cell_type": "markdown",
   "metadata": {},
   "source": [
    "## 2.1 Unpivot Data"
   ]
  },
  {
   "cell_type": "code",
   "execution_count": 39,
   "metadata": {},
   "outputs": [],
   "source": [
    "# Convert the Timestamp to a Datetime Object\n",
    "df_prod[\"Year\"] = df_prod[\"Timestamp\"].apply(lambda x: x.split(\"/\")[0]).astype(int)\n",
    "df_prod[\"Month\"] = df_prod[\"Timestamp\"].apply(lambda x: x.split(\"/\")[1]).astype(int)\n",
    "df_prod[\"Timestamp\"] = df_prod[[\"Year\", \"Month\"]].apply(\n",
    "    lambda x: datetime(x[\"Year\"], x[\"Month\"], 1), axis=1\n",
    ")\n",
    "\n",
    "# Unpivot columns to rows\n",
    "df_prod = pd.melt(\n",
    "    df_prod.drop(columns=[\"Month\", \"Year\"]),\n",
    "    id_vars=[\"Timestamp\"],\n",
    "    var_name=\"Plant\",\n",
    "    value_name=\"Production\",\n",
    ")"
   ]
  },
  {
   "cell_type": "code",
   "execution_count": 40,
   "metadata": {},
   "outputs": [
    {
     "data": {
      "text/html": [
       "<div>\n",
       "<style scoped>\n",
       "    .dataframe tbody tr th:only-of-type {\n",
       "        vertical-align: middle;\n",
       "    }\n",
       "\n",
       "    .dataframe tbody tr th {\n",
       "        vertical-align: top;\n",
       "    }\n",
       "\n",
       "    .dataframe thead th {\n",
       "        text-align: right;\n",
       "    }\n",
       "</style>\n",
       "<table border=\"1\" class=\"dataframe\">\n",
       "  <thead>\n",
       "    <tr style=\"text-align: right;\">\n",
       "      <th></th>\n",
       "      <th>Timestamp</th>\n",
       "      <th>Plant</th>\n",
       "      <th>Production</th>\n",
       "    </tr>\n",
       "  </thead>\n",
       "  <tbody>\n",
       "    <tr>\n",
       "      <th>0</th>\n",
       "      <td>2014-01-01</td>\n",
       "      <td>Plant_6</td>\n",
       "      <td>11848</td>\n",
       "    </tr>\n",
       "    <tr>\n",
       "      <th>1</th>\n",
       "      <td>2014-02-01</td>\n",
       "      <td>Plant_6</td>\n",
       "      <td>13528</td>\n",
       "    </tr>\n",
       "    <tr>\n",
       "      <th>2</th>\n",
       "      <td>2014-03-01</td>\n",
       "      <td>Plant_6</td>\n",
       "      <td>12753</td>\n",
       "    </tr>\n",
       "    <tr>\n",
       "      <th>3</th>\n",
       "      <td>2014-04-01</td>\n",
       "      <td>Plant_6</td>\n",
       "      <td>12681</td>\n",
       "    </tr>\n",
       "    <tr>\n",
       "      <th>4</th>\n",
       "      <td>2014-05-01</td>\n",
       "      <td>Plant_6</td>\n",
       "      <td>13272</td>\n",
       "    </tr>\n",
       "  </tbody>\n",
       "</table>\n",
       "</div>"
      ],
      "text/plain": [
       "   Timestamp    Plant  Production\n",
       "0 2014-01-01  Plant_6       11848\n",
       "1 2014-02-01  Plant_6       13528\n",
       "2 2014-03-01  Plant_6       12753\n",
       "3 2014-04-01  Plant_6       12681\n",
       "4 2014-05-01  Plant_6       13272"
      ]
     },
     "execution_count": 40,
     "metadata": {},
     "output_type": "execute_result"
    }
   ],
   "source": [
    "df_prod.head()"
   ]
  },
  {
   "cell_type": "code",
   "execution_count": 41,
   "metadata": {},
   "outputs": [],
   "source": [
    "# Verify that every Timestamp-Plant combination only contains one entry\n",
    "df_verify = (\n",
    "    df_prod.groupby([\"Timestamp\", \"Plant\"])[\"Production\"]\n",
    "    .count()\n",
    "    .to_frame()\n",
    "    .rename(columns={\"Production\": \"n_values\"})\n",
    ")\n",
    "assert df_verify[\"n_values\"].unique() == np.array([1])"
   ]
  },
  {
   "cell_type": "markdown",
   "metadata": {},
   "source": [
    "## 2.2 Merge Volume with Production Data"
   ]
  },
  {
   "cell_type": "code",
   "execution_count": 42,
   "metadata": {},
   "outputs": [],
   "source": [
    "# Add production information to the timeseries\n",
    "ts = pd.merge(ts, df_prod, on=[\"Timestamp\", \"Plant\"], how=\"left\")\n",
    "assert set(ts[\"ts_key\"].unique()) == set(valid_ts), \"There are missing timeseries\"\n",
    "\n",
    "ts[\"Actual Vol [Kg]\"] = ts[\"Actual Vol [Tons]\"] * 1000\n",
    "ts[\"Expected Vol [Kg]\"] = ts[\"Expected Vol [Tons]\"] * 1000"
   ]
  },
  {
   "cell_type": "code",
   "execution_count": 43,
   "metadata": {},
   "outputs": [],
   "source": [
    "# Create New Feature:\n",
    "# Volume / production Ratio\n",
    "ts[\"Actual Vol [Kg]\"] = ts[\"Actual Vol [Tons]\"] * 1000\n",
    "ts[\"Expected Vol [Kg]\"] = ts[\"Expected Vol [Tons]\"] * 1000\n",
    "ts[\"Vol/Prod_ratio_ton\"] = np.round(ts[\"Actual Vol [Tons]\"] / ts[\"Production\"], 5)\n",
    "ts[\"Vol/Prod_ratio_kg\"] = np.round(ts[\"Actual Vol [Kg]\"] / ts[\"Production\"], 5)\n",
    "ts.replace([np.inf, -np.inf], np.nan, inplace=True)\n",
    "\n",
    "# Add ts len\n",
    "ts[\"ts_len\"] = ts.groupby(\"ts_key\")[\"Timestamp\"].transform(lambda x: len(x))\n",
    "ts.sort_values(by=[\"ts_key\", \"ts_len\", \"Timestamp\"], inplace=True)"
   ]
  },
  {
   "cell_type": "code",
   "execution_count": 45,
   "metadata": {},
   "outputs": [
    {
     "data": {
      "text/plain": [
       "(1, 106)"
      ]
     },
     "execution_count": 45,
     "metadata": {},
     "output_type": "execute_result"
    }
   ],
   "source": [
    "# Previous max lenght was 113, however we removed\n",
    "# multiple entries for the ts_key \"Provider_27-Plant_19\"\n",
    "ts[\"ts_len\"].min(), ts[\"ts_len\"].max()"
   ]
  },
  {
   "cell_type": "code",
   "execution_count": 46,
   "metadata": {},
   "outputs": [
    {
     "data": {
      "text/html": [
       "<div>\n",
       "<style scoped>\n",
       "    .dataframe tbody tr th:only-of-type {\n",
       "        vertical-align: middle;\n",
       "    }\n",
       "\n",
       "    .dataframe tbody tr th {\n",
       "        vertical-align: top;\n",
       "    }\n",
       "\n",
       "    .dataframe thead th {\n",
       "        text-align: right;\n",
       "    }\n",
       "</style>\n",
       "<table border=\"1\" class=\"dataframe\">\n",
       "  <thead>\n",
       "    <tr style=\"text-align: right;\">\n",
       "      <th></th>\n",
       "      <th>Timestamp</th>\n",
       "      <th>ts_key</th>\n",
       "      <th>Actual Vol [Tons]</th>\n",
       "      <th>Expected Vol [Tons]</th>\n",
       "      <th>Plant</th>\n",
       "      <th>Production</th>\n",
       "      <th>Vol/Prod_ratio_ton</th>\n",
       "      <th>Vol/Prod_ratio_kg</th>\n",
       "      <th>ts_len</th>\n",
       "    </tr>\n",
       "  </thead>\n",
       "  <tbody>\n",
       "    <tr>\n",
       "      <th>20004</th>\n",
       "      <td>2015-01-01</td>\n",
       "      <td>Provider_10-Plant_1</td>\n",
       "      <td>2.344000</td>\n",
       "      <td>3.109000</td>\n",
       "      <td>Plant_1</td>\n",
       "      <td>48144</td>\n",
       "      <td>0.00005</td>\n",
       "      <td>0.04869</td>\n",
       "      <td>94</td>\n",
       "    </tr>\n",
       "    <tr>\n",
       "      <th>20005</th>\n",
       "      <td>2015-02-01</td>\n",
       "      <td>Provider_10-Plant_1</td>\n",
       "      <td>0.000000</td>\n",
       "      <td>0.000000</td>\n",
       "      <td>Plant_1</td>\n",
       "      <td>57400</td>\n",
       "      <td>0.00000</td>\n",
       "      <td>0.00000</td>\n",
       "      <td>94</td>\n",
       "    </tr>\n",
       "    <tr>\n",
       "      <th>20006</th>\n",
       "      <td>2015-03-01</td>\n",
       "      <td>Provider_10-Plant_1</td>\n",
       "      <td>0.000000</td>\n",
       "      <td>0.000000</td>\n",
       "      <td>Plant_1</td>\n",
       "      <td>51290</td>\n",
       "      <td>0.00000</td>\n",
       "      <td>0.00000</td>\n",
       "      <td>94</td>\n",
       "    </tr>\n",
       "    <tr>\n",
       "      <th>20007</th>\n",
       "      <td>2015-04-01</td>\n",
       "      <td>Provider_10-Plant_1</td>\n",
       "      <td>0.000000</td>\n",
       "      <td>0.000000</td>\n",
       "      <td>Plant_1</td>\n",
       "      <td>51489</td>\n",
       "      <td>0.00000</td>\n",
       "      <td>0.00000</td>\n",
       "      <td>94</td>\n",
       "    </tr>\n",
       "    <tr>\n",
       "      <th>20008</th>\n",
       "      <td>2015-05-01</td>\n",
       "      <td>Provider_10-Plant_1</td>\n",
       "      <td>0.000000</td>\n",
       "      <td>0.000000</td>\n",
       "      <td>Plant_1</td>\n",
       "      <td>60348</td>\n",
       "      <td>0.00000</td>\n",
       "      <td>0.00000</td>\n",
       "      <td>94</td>\n",
       "    </tr>\n",
       "    <tr>\n",
       "      <th>20009</th>\n",
       "      <td>2015-06-01</td>\n",
       "      <td>Provider_10-Plant_1</td>\n",
       "      <td>0.000000</td>\n",
       "      <td>0.000000</td>\n",
       "      <td>Plant_1</td>\n",
       "      <td>64976</td>\n",
       "      <td>0.00000</td>\n",
       "      <td>0.00000</td>\n",
       "      <td>94</td>\n",
       "    </tr>\n",
       "    <tr>\n",
       "      <th>20010</th>\n",
       "      <td>2015-07-01</td>\n",
       "      <td>Provider_10-Plant_1</td>\n",
       "      <td>0.000000</td>\n",
       "      <td>0.000000</td>\n",
       "      <td>Plant_1</td>\n",
       "      <td>65834</td>\n",
       "      <td>0.00000</td>\n",
       "      <td>0.00000</td>\n",
       "      <td>94</td>\n",
       "    </tr>\n",
       "    <tr>\n",
       "      <th>20011</th>\n",
       "      <td>2015-08-01</td>\n",
       "      <td>Provider_10-Plant_1</td>\n",
       "      <td>17.792000</td>\n",
       "      <td>22.684999</td>\n",
       "      <td>Plant_1</td>\n",
       "      <td>62550</td>\n",
       "      <td>0.00028</td>\n",
       "      <td>0.28444</td>\n",
       "      <td>94</td>\n",
       "    </tr>\n",
       "    <tr>\n",
       "      <th>20012</th>\n",
       "      <td>2015-09-01</td>\n",
       "      <td>Provider_10-Plant_1</td>\n",
       "      <td>111.573997</td>\n",
       "      <td>123.466003</td>\n",
       "      <td>Plant_1</td>\n",
       "      <td>63741</td>\n",
       "      <td>0.00175</td>\n",
       "      <td>1.75043</td>\n",
       "      <td>94</td>\n",
       "    </tr>\n",
       "    <tr>\n",
       "      <th>20013</th>\n",
       "      <td>2015-10-01</td>\n",
       "      <td>Provider_10-Plant_1</td>\n",
       "      <td>179.990997</td>\n",
       "      <td>234.199005</td>\n",
       "      <td>Plant_1</td>\n",
       "      <td>67452</td>\n",
       "      <td>0.00267</td>\n",
       "      <td>2.66843</td>\n",
       "      <td>94</td>\n",
       "    </tr>\n",
       "    <tr>\n",
       "      <th>20014</th>\n",
       "      <td>2015-11-01</td>\n",
       "      <td>Provider_10-Plant_1</td>\n",
       "      <td>379.359009</td>\n",
       "      <td>440.980011</td>\n",
       "      <td>Plant_1</td>\n",
       "      <td>56343</td>\n",
       "      <td>0.00673</td>\n",
       "      <td>6.73303</td>\n",
       "      <td>94</td>\n",
       "    </tr>\n",
       "    <tr>\n",
       "      <th>20015</th>\n",
       "      <td>2015-12-01</td>\n",
       "      <td>Provider_10-Plant_1</td>\n",
       "      <td>329.837006</td>\n",
       "      <td>355.105988</td>\n",
       "      <td>Plant_1</td>\n",
       "      <td>57440</td>\n",
       "      <td>0.00574</td>\n",
       "      <td>5.74229</td>\n",
       "      <td>94</td>\n",
       "    </tr>\n",
       "    <tr>\n",
       "      <th>20016</th>\n",
       "      <td>2016-01-01</td>\n",
       "      <td>Provider_10-Plant_1</td>\n",
       "      <td>367.613007</td>\n",
       "      <td>451.604004</td>\n",
       "      <td>Plant_1</td>\n",
       "      <td>62433</td>\n",
       "      <td>0.00589</td>\n",
       "      <td>5.88812</td>\n",
       "      <td>94</td>\n",
       "    </tr>\n",
       "    <tr>\n",
       "      <th>20017</th>\n",
       "      <td>2016-02-01</td>\n",
       "      <td>Provider_10-Plant_1</td>\n",
       "      <td>423.362000</td>\n",
       "      <td>547.044006</td>\n",
       "      <td>Plant_1</td>\n",
       "      <td>66399</td>\n",
       "      <td>0.00638</td>\n",
       "      <td>6.37603</td>\n",
       "      <td>94</td>\n",
       "    </tr>\n",
       "    <tr>\n",
       "      <th>20018</th>\n",
       "      <td>2016-03-01</td>\n",
       "      <td>Provider_10-Plant_1</td>\n",
       "      <td>416.863007</td>\n",
       "      <td>493.859009</td>\n",
       "      <td>Plant_1</td>\n",
       "      <td>68927</td>\n",
       "      <td>0.00605</td>\n",
       "      <td>6.04789</td>\n",
       "      <td>94</td>\n",
       "    </tr>\n",
       "    <tr>\n",
       "      <th>20019</th>\n",
       "      <td>2016-04-01</td>\n",
       "      <td>Provider_10-Plant_1</td>\n",
       "      <td>478.765015</td>\n",
       "      <td>628.908020</td>\n",
       "      <td>Plant_1</td>\n",
       "      <td>65450</td>\n",
       "      <td>0.00731</td>\n",
       "      <td>7.31497</td>\n",
       "      <td>94</td>\n",
       "    </tr>\n",
       "    <tr>\n",
       "      <th>20020</th>\n",
       "      <td>2016-05-01</td>\n",
       "      <td>Provider_10-Plant_1</td>\n",
       "      <td>365.769012</td>\n",
       "      <td>544.513977</td>\n",
       "      <td>Plant_1</td>\n",
       "      <td>69097</td>\n",
       "      <td>0.00529</td>\n",
       "      <td>5.29356</td>\n",
       "      <td>94</td>\n",
       "    </tr>\n",
       "    <tr>\n",
       "      <th>20021</th>\n",
       "      <td>2016-06-01</td>\n",
       "      <td>Provider_10-Plant_1</td>\n",
       "      <td>417.346985</td>\n",
       "      <td>512.427002</td>\n",
       "      <td>Plant_1</td>\n",
       "      <td>62563</td>\n",
       "      <td>0.00667</td>\n",
       "      <td>6.67083</td>\n",
       "      <td>94</td>\n",
       "    </tr>\n",
       "    <tr>\n",
       "      <th>20022</th>\n",
       "      <td>2016-07-01</td>\n",
       "      <td>Provider_10-Plant_1</td>\n",
       "      <td>466.158997</td>\n",
       "      <td>441.121002</td>\n",
       "      <td>Plant_1</td>\n",
       "      <td>80351</td>\n",
       "      <td>0.00580</td>\n",
       "      <td>5.80153</td>\n",
       "      <td>94</td>\n",
       "    </tr>\n",
       "    <tr>\n",
       "      <th>20023</th>\n",
       "      <td>2016-08-01</td>\n",
       "      <td>Provider_10-Plant_1</td>\n",
       "      <td>655.002014</td>\n",
       "      <td>603.057007</td>\n",
       "      <td>Plant_1</td>\n",
       "      <td>75302</td>\n",
       "      <td>0.00870</td>\n",
       "      <td>8.69833</td>\n",
       "      <td>94</td>\n",
       "    </tr>\n",
       "  </tbody>\n",
       "</table>\n",
       "</div>"
      ],
      "text/plain": [
       "       Timestamp               ts_key  Actual Vol [Tons]  Expected Vol [Tons]  \\\n",
       "20004 2015-01-01  Provider_10-Plant_1           2.344000             3.109000   \n",
       "20005 2015-02-01  Provider_10-Plant_1           0.000000             0.000000   \n",
       "20006 2015-03-01  Provider_10-Plant_1           0.000000             0.000000   \n",
       "20007 2015-04-01  Provider_10-Plant_1           0.000000             0.000000   \n",
       "20008 2015-05-01  Provider_10-Plant_1           0.000000             0.000000   \n",
       "20009 2015-06-01  Provider_10-Plant_1           0.000000             0.000000   \n",
       "20010 2015-07-01  Provider_10-Plant_1           0.000000             0.000000   \n",
       "20011 2015-08-01  Provider_10-Plant_1          17.792000            22.684999   \n",
       "20012 2015-09-01  Provider_10-Plant_1         111.573997           123.466003   \n",
       "20013 2015-10-01  Provider_10-Plant_1         179.990997           234.199005   \n",
       "20014 2015-11-01  Provider_10-Plant_1         379.359009           440.980011   \n",
       "20015 2015-12-01  Provider_10-Plant_1         329.837006           355.105988   \n",
       "20016 2016-01-01  Provider_10-Plant_1         367.613007           451.604004   \n",
       "20017 2016-02-01  Provider_10-Plant_1         423.362000           547.044006   \n",
       "20018 2016-03-01  Provider_10-Plant_1         416.863007           493.859009   \n",
       "20019 2016-04-01  Provider_10-Plant_1         478.765015           628.908020   \n",
       "20020 2016-05-01  Provider_10-Plant_1         365.769012           544.513977   \n",
       "20021 2016-06-01  Provider_10-Plant_1         417.346985           512.427002   \n",
       "20022 2016-07-01  Provider_10-Plant_1         466.158997           441.121002   \n",
       "20023 2016-08-01  Provider_10-Plant_1         655.002014           603.057007   \n",
       "\n",
       "         Plant  Production  Vol/Prod_ratio_ton  Vol/Prod_ratio_kg  ts_len  \n",
       "20004  Plant_1       48144             0.00005            0.04869      94  \n",
       "20005  Plant_1       57400             0.00000            0.00000      94  \n",
       "20006  Plant_1       51290             0.00000            0.00000      94  \n",
       "20007  Plant_1       51489             0.00000            0.00000      94  \n",
       "20008  Plant_1       60348             0.00000            0.00000      94  \n",
       "20009  Plant_1       64976             0.00000            0.00000      94  \n",
       "20010  Plant_1       65834             0.00000            0.00000      94  \n",
       "20011  Plant_1       62550             0.00028            0.28444      94  \n",
       "20012  Plant_1       63741             0.00175            1.75043      94  \n",
       "20013  Plant_1       67452             0.00267            2.66843      94  \n",
       "20014  Plant_1       56343             0.00673            6.73303      94  \n",
       "20015  Plant_1       57440             0.00574            5.74229      94  \n",
       "20016  Plant_1       62433             0.00589            5.88812      94  \n",
       "20017  Plant_1       66399             0.00638            6.37603      94  \n",
       "20018  Plant_1       68927             0.00605            6.04789      94  \n",
       "20019  Plant_1       65450             0.00731            7.31497      94  \n",
       "20020  Plant_1       69097             0.00529            5.29356      94  \n",
       "20021  Plant_1       62563             0.00667            6.67083      94  \n",
       "20022  Plant_1       80351             0.00580            5.80153      94  \n",
       "20023  Plant_1       75302             0.00870            8.69833      94  "
      ]
     },
     "execution_count": 46,
     "metadata": {},
     "output_type": "execute_result"
    }
   ],
   "source": [
    "ts.head(20)"
   ]
  },
  {
   "cell_type": "markdown",
   "metadata": {},
   "source": [
    "Something we notice here for the two different Vol/prod ratios, is that when using the ratio in kg, we actually keep more information in the decimals than using the ratio in tons. Even though, the business team expects the forecast values in tons. We can make use of the kg values to have a more granular forecast and then present the restuls in tons. Therefore we will proceede analyzing the `Vol/Prod_ratio_kg`.  Now let's create a plot to visualize the actual and expected volume, the production volume and the Vol/Prod_ratio_kg."
   ]
  },
  {
   "cell_type": "markdown",
   "metadata": {},
   "source": [
    "The Business Team is asking a way to visualize the information a bit better. They would like to have for every time series a plot in a page which inclues, the Incoming Volume, The Production Level for the respective Plant and the Volume/Production Ratio. This report will help spot correlation and patterns among this three important features. \n",
    "\n",
    "Your task is:\n",
    "\n",
    "- 1) Create this plot for the timeseries key \"Provider_10-Plant_1\". As shown in the image below. \n",
    "- 2) Create this plot for all the timeseries and store them as a PDF. Like the \"Timeseries_Vol_Prod_Ratio.pdf\" which can be found in this folder. "
   ]
  },
  {
   "cell_type": "code",
   "execution_count": 52,
   "metadata": {},
   "outputs": [
    {
     "data": {
      "image/png": "[encoded data removed]",
      "text/plain": [
       "<Figure size 1000x1500 with 3 Axes>"
      ]
     },
     "metadata": {},
     "output_type": "display_data"
    }
   ],
   "source": [
    "# Task1: Code Here\n",
    "# Use this colors:\n",
    "# line_colors = {'Actual Vol': '#1f76b4',\n",
    "#                'Expected Vol': '#ff7e0e',\n",
    "#                'Production': '#107824',\n",
    "#                'Vol/Prod_ratio_kg': '#b41f49',\n",
    "#                }\n",
    "plt.close()\n",
    "ts_key = \"Provider_10-Plant_1\""
   ]
  },
  {
   "cell_type": "code",
   "execution_count": 53,
   "metadata": {},
   "outputs": [
    {
     "name": "stderr",
     "output_type": "stream",
     "text": [
      "  0%|          | 0/10 [00:00<?, ?it/s]"
     ]
    },
    {
     "name": "stderr",
     "output_type": "stream",
     "text": [
      "100%|██████████| 10/10 [00:04<00:00,  2.40it/s]\n"
     ]
    }
   ],
   "source": [
    "# Task2: Code Here"
   ]
  },
  {
   "cell_type": "markdown",
   "metadata": {},
   "source": [
    "# 3. Time Series Analysis\n",
    "\n",
    "Let's Analyse the timeseries for using the `Vol/Prod_ratio_ton`. Which will be our target variable. "
   ]
  },
  {
   "cell_type": "markdown",
   "metadata": {},
   "source": [
    "## 3.1 Linear Interpolation"
   ]
  },
  {
   "cell_type": "code",
   "execution_count": 107,
   "metadata": {},
   "outputs": [],
   "source": [
    "# First let's linearly interpolate all the\n",
    "# missing value for the Covid Outbreak in April 2020\n",
    "ts_key = \"Provider_10-Plant_1\"\n",
    "_df = ts[ts[\"ts_key\"] == ts_key][[\"Timestamp\", \"Vol/Prod_ratio_kg\"]].reset_index(\n",
    "    drop=True\n",
    ")\n",
    "y = _df[~_df[\"Vol/Prod_ratio_kg\"].isna()][\"Vol/Prod_ratio_kg\"].values\n",
    "x = _df[~_df[\"Vol/Prod_ratio_kg\"].isna()].index.values\n",
    "xvals = _df[_df[\"Vol/Prod_ratio_kg\"].isna()].index.values\n",
    "yinterp = np.interp(xvals, x, y)"
   ]
  },
  {
   "cell_type": "code",
   "execution_count": 108,
   "metadata": {},
   "outputs": [
    {
     "data": {
      "text/plain": [
       "array([4.097795])"
      ]
     },
     "execution_count": 108,
     "metadata": {},
     "output_type": "execute_result"
    }
   ],
   "source": [
    "yinterp"
   ]
  },
  {
   "cell_type": "code",
   "execution_count": 113,
   "metadata": {},
   "outputs": [
    {
     "data": {
      "image/png": "[encoded data removed]",
      "text/plain": [
       "<Figure size 640x480 with 1 Axes>"
      ]
     },
     "metadata": {},
     "output_type": "display_data"
    }
   ],
   "source": [
    "_df.plot(y=[\"Vol/Prod_ratio_kg\"])\n",
    "plt.show()"
   ]
  },
  {
   "cell_type": "code",
   "execution_count": 117,
   "metadata": {},
   "outputs": [
    {
     "data": {
      "image/png": "[encoded data removed]",
      "text/plain": [
       "<Figure size 640x480 with 1 Axes>"
      ]
     },
     "metadata": {},
     "output_type": "display_data"
    }
   ],
   "source": [
    "_df[\"Vol/Prod_ratio_kg_complete\"] = np.where(\n",
    "    _df[\"Vol/Prod_ratio_kg\"].isna(), yinterp[0], _df[\"Vol/Prod_ratio_kg\"]\n",
    ")\n",
    "_df.plot(y=[\"Vol/Prod_ratio_kg_complete\"])\n",
    "plt.show()"
   ]
  },
  {
   "cell_type": "code",
   "execution_count": null,
   "metadata": {},
   "outputs": [],
   "source": []
  }
 ],
 "metadata": {
  "kernelspec": {
   "display_name": "forecasting",
   "language": "python",
   "name": "python3"
  },
  "language_info": {
   "codemirror_mode": {
    "name": "ipython",
    "version": 3
   },
   "file_extension": ".py",
   "mimetype": "text/x-python",
   "name": "python",
   "nbconvert_exporter": "python",
   "pygments_lexer": "ipython3",
   "version": "3.9.18"
  }
 },
 "nbformat": 4,
 "nbformat_minor": 2
}
